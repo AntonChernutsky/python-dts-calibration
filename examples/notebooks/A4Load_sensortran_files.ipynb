{
 "cells": [
  {
   "cell_type": "markdown",
   "metadata": {},
   "source": [
    "# A4. Loading sensortran files\n",
    "This example loads sensortran files. Only single-ended measurements are currently supported.\n",
    "Sensortran files are in binary format. The library requires the `*BinaryRawDTS.dat` and `*BinaryTemp.dat` files."
   ]
  },
  {
   "cell_type": "code",
   "execution_count": 13,
   "metadata": {},
   "outputs": [],
   "source": [
    "import os\n",
    "import glob\n",
    "import matplotlib.pyplot as plt\n",
    "from pandas.plotting import register_matplotlib_converters\n",
    "register_matplotlib_converters()\n",
    "    \n",
    "from dtscalibration import read_sensortran_files"
   ]
  },
  {
   "cell_type": "markdown",
   "metadata": {},
   "source": [
    "The example data files are located in `./python-dts-calibration/tests/data`."
   ]
  },
  {
   "cell_type": "code",
   "execution_count": 14,
   "metadata": {},
   "outputs": [
    {
     "name": "stdout",
     "output_type": "stream",
     "text": [
      "../../tests/data/sensortran_binary\n"
     ]
    }
   ],
   "source": [
    "filepath = os.path.join('..', '..', 'tests', 'data', 'sensortran_binary')\n",
    "print(filepath)"
   ]
  },
  {
   "cell_type": "code",
   "execution_count": 15,
   "metadata": {},
   "outputs": [
    {
     "name": "stdout",
     "output_type": "stream",
     "text": [
      "15_56_47_BinaryRawDTS.dat\n",
      "15_56_47_BinaryTemp.dat\n",
      "16_11_31_BinaryRawDTS.dat\n",
      "16_11_31_BinaryTemp.dat\n",
      "16_29_23_BinaryRawDTS.dat\n",
      "16_29_23_BinaryTemp.dat\n"
     ]
    }
   ],
   "source": [
    "filepathlist = sorted(glob.glob(os.path.join(filepath, '*.dat')))\n",
    "filenamelist = [os.path.basename(path) for path in filepathlist]\n",
    "\n",
    "for fn in filenamelist:\n",
    "    print(fn)"
   ]
  },
  {
   "cell_type": "markdown",
   "metadata": {},
   "source": [
    "We will simply load in the binary files"
   ]
  },
  {
   "cell_type": "code",
   "execution_count": 16,
   "metadata": {},
   "outputs": [
    {
     "name": "stdout",
     "output_type": "stream",
     "text": [
      "3 files were found, each representing a single timestep\n",
      "Recorded at 11582 points along the cable\n",
      "The measurement is single ended\n"
     ]
    }
   ],
   "source": [
    "ds = read_sensortran_files(directory=filepath)"
   ]
  },
  {
   "cell_type": "markdown",
   "metadata": {},
   "source": [
    "The object tries to gather as much metadata from the measurement files as possible (temporal and spatial coordinates, filenames, temperature probes measurements). All other configuration settings are loaded from the first files and stored as attributes of the `DataStore`. Sensortran's data files contain less information than the other manufacturer's devices, one being the acquisition time. The acquisition time is needed for estimating variances, and is set a constant 1s."
   ]
  },
  {
   "cell_type": "code",
   "execution_count": 17,
   "metadata": {},
   "outputs": [
    {
     "name": "stdout",
     "output_type": "stream",
     "text": [
      "<dtscalibration.DataStore>\n",
      "Sections:                  ()\n",
      "Dimensions:                (time: 3, x: 11582)\n",
      "Coordinates:\n",
      "  * x                      (x) float32 -451.37958 -450.87354 ... 5408.9644\n",
      "    filename               (time) <U25 '15_56_47_BinaryRawDTS.dat' ... '16_29_23_BinaryRawDTS.dat'\n",
      "    filename_temp          (time) <U23 '15_56_47_BinaryTemp.dat' ... '16_29_23_BinaryTemp.dat'\n",
      "    timestart              (time) datetime64[ns] 2009-09-24T00:56:46 ... 2009-09-24T01:29:22\n",
      "    timeend                (time) datetime64[ns] 2009-09-24T00:56:47 ... 2009-09-24T01:29:23\n",
      "  * time                   (time) datetime64[ns] 2009-09-24T00:56:47 ... 2009-09-24T01:29:23\n",
      "    acquisitiontimeFW      (time) timedelta64[ns] 00:00:01 00:00:01 00:00:01\n",
      "Data variables:\n",
      "    st                     (x, time) int32 39040680 39057147 ... 39071213\n",
      "    ast                    (x, time) int32 39048646 39064414 ... 39407668\n",
      "    tmp                    (x, time) float64 -273.1 -273.1 ... 82.41 82.71\n",
      "    referenceTemperature   (time) float64 28.61 29.24 30.29\n",
      "    st_zero                (time) float64 3.904e+07 3.906e+07 3.907e+07\n",
      "    ast_zero               (time) float64 3.905e+07 3.907e+07 3.908e+07\n",
      "    userAcquisitionTimeFW  (time) float64 1.0 1.0 1.0\n",
      "Attributes:\n",
      "    survey_type:                 2\n",
      "    hdr_version:                 3\n",
      "    x_units:                     n/a\n",
      "    y_units:                     counts\n",
      "    num_points:                  12000\n",
      "    num_pulses:                  25000\n",
      "    channel_id:                  1\n",
      "    num_subtraces:               354\n",
      "    num_skipped:                 0\n",
      "\n",
      ".. and many more attributes. See: ds.attrs\n"
     ]
    }
   ],
   "source": [
    "print(ds)"
   ]
  },
  {
   "cell_type": "markdown",
   "metadata": {},
   "source": [
    "The sensortran files differ from other manufacturers, in that they return the 'counts' of the Stokes and anti-Stokes signals. These are not corrected for offsets, which has to be done manually for proper calibration. \n",
    "\n",
    "Based on the data available in the binary files, the library estimates a zero-count to correct the signals, but this is not perfectly accurate or constant over time. For proper calibration, the offsets would have to be incorporated into the calibration routine."
   ]
  },
  {
   "cell_type": "code",
   "execution_count": 18,
   "metadata": {},
   "outputs": [
    {
     "data": {
      "text/plain": [
       "<dtscalibration.DataStore>\n",
       "Sections:                  ()\n",
       "Dimensions:                (time: 3, x: 11582)\n",
       "Coordinates:\n",
       "  * x                      (x) float32 -451.37958 -450.87354 ... 5408.9644\n",
       "    filename               (time) <U25 '15_56_47_BinaryRawDTS.dat' ... '16_29_23_BinaryRawDTS.dat'\n",
       "    filename_temp          (time) <U23 '15_56_47_BinaryTemp.dat' ... '16_29_23_BinaryTemp.dat'\n",
       "    timestart              (time) datetime64[ns] 2009-09-24T00:56:46 ... 2009-09-24T01:29:22\n",
       "    timeend                (time) datetime64[ns] 2009-09-24T00:56:47 ... 2009-09-24T01:29:23\n",
       "  * time                   (time) datetime64[ns] 2009-09-24T00:56:47 ... 2009-09-24T01:29:23\n",
       "    acquisitiontimeFW      (time) timedelta64[ns] 00:00:01 00:00:01 00:00:01\n",
       "Data variables:\n",
       "    st                     (x, time) int32 39040680 39057147 ... 39071213\n",
       "    ast                    (x, time) int32 39048646 39064414 ... 39407668\n",
       "    tmp                    (x, time) float64 -273.1 -273.1 ... 82.41 82.71\n",
       "    referenceTemperature   (time) float64 28.61 29.24 30.29\n",
       "    st_zero                (time) float64 3.904e+07 3.906e+07 3.907e+07\n",
       "    ast_zero               (time) float64 3.905e+07 3.907e+07 3.908e+07\n",
       "    userAcquisitionTimeFW  (time) float64 1.0 1.0 1.0\n",
       "Attributes:\n",
       "    survey_type:                 2\n",
       "    hdr_version:                 3\n",
       "    x_units:                     n/a\n",
       "    y_units:                     counts\n",
       "    num_points:                  12000\n",
       "    num_pulses:                  25000\n",
       "    channel_id:                  1\n",
       "    num_subtraces:               354\n",
       "    num_skipped:                 0\n",
       "\n",
       ".. and many more attributes. See: ds.attrs"
      ]
     },
     "execution_count": 18,
     "metadata": {},
     "output_type": "execute_result"
    }
   ],
   "source": [
    "ds"
   ]
  },
  {
   "cell_type": "code",
   "execution_count": 19,
   "metadata": {},
   "outputs": [
    {
     "data": {
      "text/plain": [
       "<matplotlib.lines.Line2D at 0x1a1a6bee50>"
      ]
     },
     "execution_count": 19,
     "metadata": {},
     "output_type": "execute_result"
    },
    {
     "data": {
      "image/png": "[encoded data removed]",
      "text/plain": [
       "<Figure size 432x288 with 1 Axes>"
      ]
     },
     "metadata": {
      "needs_background": "light"
     },
     "output_type": "display_data"
    }
   ],
   "source": [
    "ds0 = ds.isel(time=0)\n",
    "\n",
    "plt.figure()\n",
    "ds0.st.plot(label='Stokes signal')\n",
    "plt.axhline(ds0.st_zero.values, c='r', label=\"'zero' measurement\")\n",
    "plt.legend()\n",
    "plt.title('')\n",
    "plt.axhline(c='k')"
   ]
  },
  {
   "cell_type": "markdown",
   "metadata": {},
   "source": [
    "After a correction and rescaling (for human readability) the data will look more like other manufacturer's devices"
   ]
  },
  {
   "cell_type": "code",
   "execution_count": 20,
   "metadata": {},
   "outputs": [],
   "source": [
    "ds['st'] = (ds.st - ds.st_zero)/1e4\n",
    "ds['ast'] = (ds.ast - ds.ast_zero)/1e4"
   ]
  },
  {
   "cell_type": "code",
   "execution_count": 21,
   "metadata": {},
   "outputs": [
    {
     "data": {
      "text/plain": [
       "(-50, 500)"
      ]
     },
     "execution_count": 21,
     "metadata": {},
     "output_type": "execute_result"
    },
    {
     "data": {
      "image/png": "[encoded data removed]",
      "text/plain": [
       "<Figure size 432x288 with 1 Axes>"
      ]
     },
     "metadata": {
      "needs_background": "light"
     },
     "output_type": "display_data"
    }
   ],
   "source": [
    "ds.isel(time=0).st.plot(label='Stokes intensity')\n",
    "ds.isel(time=0).ast.plot(label='anti-Stokes intensity')\n",
    "plt.legend()\n",
    "plt.axhline(c='k', lw=1)\n",
    "plt.xlabel('')\n",
    "plt.title('')\n",
    "plt.ylim([-50,500])"
   ]
  },
  {
   "cell_type": "code",
   "execution_count": null,
   "metadata": {},
   "outputs": [],
   "source": []
  }
 ],
 "metadata": {
  "kernelspec": {
   "display_name": "Python 3",
   "language": "python",
   "name": "python3"
  },
  "language_info": {
   "codemirror_mode": {
    "name": "ipython",
    "version": 3
   },
   "file_extension": ".py",
   "mimetype": "text/x-python",
   "name": "python",
   "nbconvert_exporter": "python",
   "pygments_lexer": "ipython3",
   "version": "3.7.6"
  }
 },
 "nbformat": 4,
 "nbformat_minor": 2
}
