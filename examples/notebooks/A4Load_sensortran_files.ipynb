{
 "cells": [
  {
   "cell_type": "markdown",
   "metadata": {},
   "source": [
    "# A4. Loading sensortran files\n",
    "This example loads sensortran files. Only single-ended measurements are currently supported.\n",
    "Sensortran files are in binary format. The library requires the `*BinaryRawDTS.dat` and `*BinaryTemp.dat` files."
   ]
  },
  {
   "cell_type": "code",
   "execution_count": 1,
   "metadata": {
    "execution": {
     "iopub.execute_input": "2020-10-13T14:36:08.784872Z",
     "iopub.status.busy": "2020-10-13T14:36:08.784072Z",
     "iopub.status.idle": "2020-10-13T14:36:09.868883Z",
     "shell.execute_reply": "2020-10-13T14:36:09.869332Z"
    }
   },
   "outputs": [
    {
     "name": "stderr",
     "output_type": "stream",
     "text": [
      "/Users/bfdestombe/anaconda3/envs/dts/lib/python3.7/typing.py:847: FutureWarning: xarray subclass DataStore should explicitly define __slots__\n",
      "  super().__init_subclass__(*args, **kwargs)\n"
     ]
    }
   ],
   "source": [
    "import os\n",
    "import glob\n",
    "import matplotlib.pyplot as plt\n",
    "from pandas.plotting import register_matplotlib_converters\n",
    "register_matplotlib_converters()\n",
    "    \n",
    "from dtscalibration import read_sensortran_files"
   ]
  },
  {
   "cell_type": "markdown",
   "metadata": {},
   "source": [
    "The example data files are located in `./python-dts-calibration/tests/data`."
   ]
  },
  {
   "cell_type": "code",
   "execution_count": 2,
   "metadata": {
    "execution": {
     "iopub.execute_input": "2020-10-13T14:36:09.873800Z",
     "iopub.status.busy": "2020-10-13T14:36:09.872975Z",
     "iopub.status.idle": "2020-10-13T14:36:09.875815Z",
     "shell.execute_reply": "2020-10-13T14:36:09.876248Z"
    }
   },
   "outputs": [
    {
     "name": "stdout",
     "output_type": "stream",
     "text": [
      "../../tests/data/sensortran_binary\n"
     ]
    }
   ],
   "source": [
    "filepath = os.path.join('..', '..', 'tests', 'data', 'sensortran_binary')\n",
    "print(filepath)"
   ]
  },
  {
   "cell_type": "code",
   "execution_count": 3,
   "metadata": {
    "execution": {
     "iopub.execute_input": "2020-10-13T14:36:09.880697Z",
     "iopub.status.busy": "2020-10-13T14:36:09.879834Z",
     "iopub.status.idle": "2020-10-13T14:36:09.883219Z",
     "shell.execute_reply": "2020-10-13T14:36:09.883652Z"
    }
   },
   "outputs": [
    {
     "name": "stdout",
     "output_type": "stream",
     "text": [
      "15_56_47_BinaryRawDTS.dat\n",
      "15_56_47_BinaryTemp.dat\n",
      "16_11_31_BinaryRawDTS.dat\n",
      "16_11_31_BinaryTemp.dat\n",
      "16_29_23_BinaryRawDTS.dat\n",
      "16_29_23_BinaryTemp.dat\n"
     ]
    }
   ],
   "source": [
    "filepathlist = sorted(glob.glob(os.path.join(filepath, '*.dat')))\n",
    "filenamelist = [os.path.basename(path) for path in filepathlist]\n",
    "\n",
    "for fn in filenamelist:\n",
    "    print(fn)"
   ]
  },
  {
   "cell_type": "markdown",
   "metadata": {},
   "source": [
    "We will simply load in the binary files"
   ]
  },
  {
   "cell_type": "code",
   "execution_count": 4,
   "metadata": {
    "execution": {
     "iopub.execute_input": "2020-10-13T14:36:09.887151Z",
     "iopub.status.busy": "2020-10-13T14:36:09.886566Z",
     "iopub.status.idle": "2020-10-13T14:36:09.907940Z",
     "shell.execute_reply": "2020-10-13T14:36:09.908393Z"
    }
   },
   "outputs": [
    {
     "name": "stdout",
     "output_type": "stream",
     "text": [
      "3 files were found, each representing a single timestep\n",
      "Recorded at 11582 points along the cable\n",
      "The measurement is single ended\n"
     ]
    }
   ],
   "source": [
    "ds = read_sensortran_files(directory=filepath)"
   ]
  },
  {
   "cell_type": "markdown",
   "metadata": {},
   "source": [
    "The object tries to gather as much metadata from the measurement files as possible (temporal and spatial coordinates, filenames, temperature probes measurements). All other configuration settings are loaded from the first files and stored as attributes of the `DataStore`. Sensortran's data files contain less information than the other manufacturer's devices, one being the acquisition time. The acquisition time is needed for estimating variances, and is set a constant 1s."
   ]
  },
  {
   "cell_type": "code",
   "execution_count": 5,
   "metadata": {
    "execution": {
     "iopub.execute_input": "2020-10-13T14:36:09.920774Z",
     "iopub.status.busy": "2020-10-13T14:36:09.920168Z",
     "iopub.status.idle": "2020-10-13T14:36:09.922727Z",
     "shell.execute_reply": "2020-10-13T14:36:09.923456Z"
    }
   },
   "outputs": [
    {
     "name": "stdout",
     "output_type": "stream",
     "text": [
      "<dtscalibration.DataStore>\n",
      "Sections:                  ()\n",
      "Dimensions:                (time: 3, trans_att: 0, x: 11582)\n",
      "Coordinates:\n",
      "  * x                      (x) float32 -451.37958 -450.87354 ... 5408.9644\n",
      "    filename               (time) <U25 '15_56_47_BinaryRawDTS.dat' ... '16_29...\n",
      "    filename_temp          (time) <U23 '15_56_47_BinaryTemp.dat' ... '16_29_2...\n",
      "    timestart              (time) datetime64[ns] 2009-09-24T00:56:46 ... 2009...\n",
      "    timeend                (time) datetime64[ns] 2009-09-24T00:56:47 ... 2009...\n",
      "  * time                   (time) datetime64[ns] 2009-09-24T00:56:47 ... 2009...\n",
      "    acquisitiontimeFW      (time) timedelta64[ns] 00:00:01 00:00:01 00:00:01\n",
      "  * trans_att              (trans_att) float64 \n",
      "Data variables:\n",
      "    st                     (x, time) int32 39040680 39057147 ... 39071213\n",
      "    ast                    (x, time) int32 39048646 39064414 ... 39407668\n",
      "    tmp                    (x, time) float64 -273.1 -273.1 ... 82.41 82.71\n",
      "    referenceTemperature   (time) float64 28.61 29.24 30.29\n",
      "    st_zero                (time) float64 3.904e+07 3.906e+07 3.907e+07\n",
      "    ast_zero               (time) float64 3.905e+07 3.907e+07 3.908e+07\n",
      "    userAcquisitionTimeFW  (time) float64 1.0 1.0 1.0\n",
      "Attributes:\n",
      "    survey_type:                 2\n",
      "    hdr_version:                 3\n",
      "    x_units:                     n/a\n",
      "    y_units:                     counts\n",
      "    num_points:                  12000\n",
      "    num_pulses:                  25000\n",
      "    channel_id:                  1\n",
      "    num_subtraces:               354\n",
      "    num_skipped:                 0\n",
      "\n",
      ".. and many more attributes. See: ds.attrs\n"
     ]
    }
   ],
   "source": [
    "print(ds)"
   ]
  },
  {
   "cell_type": "markdown",
   "metadata": {},
   "source": [
    "The sensortran files differ from other manufacturers, in that they return the 'counts' of the Stokes and anti-Stokes signals. These are not corrected for offsets, which has to be done manually for proper calibration. \n",
    "\n",
    "Based on the data available in the binary files, the library estimates a zero-count to correct the signals, but this is not perfectly accurate or constant over time. For proper calibration, the offsets would have to be incorporated into the calibration routine."
   ]
  },
  {
   "cell_type": "code",
   "execution_count": 6,
   "metadata": {
    "execution": {
     "iopub.execute_input": "2020-10-13T14:36:09.946834Z",
     "iopub.status.busy": "2020-10-13T14:36:09.946018Z",
     "iopub.status.idle": "2020-10-13T14:36:09.977621Z",
     "shell.execute_reply": "2020-10-13T14:36:09.978085Z"
    }
   },
   "outputs": [
    {
     "data": {
      "text/html": [
       "<div><svg style=\"position: absolute; width: 0; height: 0; overflow: hidden\">\n",
       "<defs>\n",
       "<symbol id=\"icon-database\" viewBox=\"0 0 32 32\">\n",
       "<path d=\"M16 0c-8.837 0-16 2.239-16 5v4c0 2.761 7.163 5 16 5s16-2.239 16-5v-4c0-2.761-7.163-5-16-5z\"></path>\n",
       "<path d=\"M16 17c-8.837 0-16-2.239-16-5v6c0 2.761 7.163 5 16 5s16-2.239 16-5v-6c0 2.761-7.163 5-16 5z\"></path>\n",
       "<path d=\"M16 26c-8.837 0-16-2.239-16-5v6c0 2.761 7.163 5 16 5s16-2.239 16-5v-6c0 2.761-7.163 5-16 5z\"></path>\n",
       "</symbol>\n",
       "<symbol id=\"icon-file-text2\" viewBox=\"0 0 32 32\">\n",
       "<path d=\"M28.681 7.159c-0.694-0.947-1.662-2.053-2.724-3.116s-2.169-2.030-3.116-2.724c-1.612-1.182-2.393-1.319-2.841-1.319h-15.5c-1.378 0-2.5 1.121-2.5 2.5v27c0 1.378 1.122 2.5 2.5 2.5h23c1.378 0 2.5-1.122 2.5-2.5v-19.5c0-0.448-0.137-1.23-1.319-2.841zM24.543 5.457c0.959 0.959 1.712 1.825 2.268 2.543h-4.811v-4.811c0.718 0.556 1.584 1.309 2.543 2.268zM28 29.5c0 0.271-0.229 0.5-0.5 0.5h-23c-0.271 0-0.5-0.229-0.5-0.5v-27c0-0.271 0.229-0.5 0.5-0.5 0 0 15.499-0 15.5 0v7c0 0.552 0.448 1 1 1h7v19.5z\"></path>\n",
       "<path d=\"M23 26h-14c-0.552 0-1-0.448-1-1s0.448-1 1-1h14c0.552 0 1 0.448 1 1s-0.448 1-1 1z\"></path>\n",
       "<path d=\"M23 22h-14c-0.552 0-1-0.448-1-1s0.448-1 1-1h14c0.552 0 1 0.448 1 1s-0.448 1-1 1z\"></path>\n",
       "<path d=\"M23 18h-14c-0.552 0-1-0.448-1-1s0.448-1 1-1h14c0.552 0 1 0.448 1 1s-0.448 1-1 1z\"></path>\n",
       "</symbol>\n",
       "</defs>\n",
       "</svg>\n",
       "<style>/* CSS stylesheet for displaying xarray objects in jupyterlab.\n",
       " *\n",
       " */\n",
       "\n",
       ":root {\n",
       "  --xr-font-color0: var(--jp-content-font-color0, rgba(0, 0, 0, 1));\n",
       "  --xr-font-color2: var(--jp-content-font-color2, rgba(0, 0, 0, 0.54));\n",
       "  --xr-font-color3: var(--jp-content-font-color3, rgba(0, 0, 0, 0.38));\n",
       "  --xr-border-color: var(--jp-border-color2, #e0e0e0);\n",
       "  --xr-disabled-color: var(--jp-layout-color3, #bdbdbd);\n",
       "  --xr-background-color: var(--jp-layout-color0, white);\n",
       "  --xr-background-color-row-even: var(--jp-layout-color1, white);\n",
       "  --xr-background-color-row-odd: var(--jp-layout-color2, #eeeeee);\n",
       "}\n",
       "\n",
       "html[theme=dark],\n",
       "body.vscode-dark {\n",
       "  --xr-font-color0: rgba(255, 255, 255, 1);\n",
       "  --xr-font-color2: rgba(255, 255, 255, 0.54);\n",
       "  --xr-font-color3: rgba(255, 255, 255, 0.38);\n",
       "  --xr-border-color: #1F1F1F;\n",
       "  --xr-disabled-color: #515151;\n",
       "  --xr-background-color: #111111;\n",
       "  --xr-background-color-row-even: #111111;\n",
       "  --xr-background-color-row-odd: #313131;\n",
       "}\n",
       "\n",
       ".xr-wrap {\n",
       "  display: block;\n",
       "  min-width: 300px;\n",
       "  max-width: 700px;\n",
       "}\n",
       "\n",
       ".xr-text-repr-fallback {\n",
       "  /* fallback to plain text repr when CSS is not injected (untrusted notebook) */\n",
       "  display: none;\n",
       "}\n",
       "\n",
       ".xr-header {\n",
       "  padding-top: 6px;\n",
       "  padding-bottom: 6px;\n",
       "  margin-bottom: 4px;\n",
       "  border-bottom: solid 1px var(--xr-border-color);\n",
       "}\n",
       "\n",
       ".xr-header > div,\n",
       ".xr-header > ul {\n",
       "  display: inline;\n",
       "  margin-top: 0;\n",
       "  margin-bottom: 0;\n",
       "}\n",
       "\n",
       ".xr-obj-type,\n",
       ".xr-array-name {\n",
       "  margin-left: 2px;\n",
       "  margin-right: 10px;\n",
       "}\n",
       "\n",
       ".xr-obj-type {\n",
       "  color: var(--xr-font-color2);\n",
       "}\n",
       "\n",
       ".xr-sections {\n",
       "  padding-left: 0 !important;\n",
       "  display: grid;\n",
       "  grid-template-columns: 150px auto auto 1fr 20px 20px;\n",
       "}\n",
       "\n",
       ".xr-section-item {\n",
       "  display: contents;\n",
       "}\n",
       "\n",
       ".xr-section-item input {\n",
       "  display: none;\n",
       "}\n",
       "\n",
       ".xr-section-item input + label {\n",
       "  color: var(--xr-disabled-color);\n",
       "}\n",
       "\n",
       ".xr-section-item input:enabled + label {\n",
       "  cursor: pointer;\n",
       "  color: var(--xr-font-color2);\n",
       "}\n",
       "\n",
       ".xr-section-item input:enabled + label:hover {\n",
       "  color: var(--xr-font-color0);\n",
       "}\n",
       "\n",
       ".xr-section-summary {\n",
       "  grid-column: 1;\n",
       "  color: var(--xr-font-color2);\n",
       "  font-weight: 500;\n",
       "}\n",
       "\n",
       ".xr-section-summary > span {\n",
       "  display: inline-block;\n",
       "  padding-left: 0.5em;\n",
       "}\n",
       "\n",
       ".xr-section-summary-in:disabled + label {\n",
       "  color: var(--xr-font-color2);\n",
       "}\n",
       "\n",
       ".xr-section-summary-in + label:before {\n",
       "  display: inline-block;\n",
       "  content: '►';\n",
       "  font-size: 11px;\n",
       "  width: 15px;\n",
       "  text-align: center;\n",
       "}\n",
       "\n",
       ".xr-section-summary-in:disabled + label:before {\n",
       "  color: var(--xr-disabled-color);\n",
       "}\n",
       "\n",
       ".xr-section-summary-in:checked + label:before {\n",
       "  content: '▼';\n",
       "}\n",
       "\n",
       ".xr-section-summary-in:checked + label > span {\n",
       "  display: none;\n",
       "}\n",
       "\n",
       ".xr-section-summary,\n",
       ".xr-section-inline-details {\n",
       "  padding-top: 4px;\n",
       "  padding-bottom: 4px;\n",
       "}\n",
       "\n",
       ".xr-section-inline-details {\n",
       "  grid-column: 2 / -1;\n",
       "}\n",
       "\n",
       ".xr-section-details {\n",
       "  display: none;\n",
       "  grid-column: 1 / -1;\n",
       "  margin-bottom: 5px;\n",
       "}\n",
       "\n",
       ".xr-section-summary-in:checked ~ .xr-section-details {\n",
       "  display: contents;\n",
       "}\n",
       "\n",
       ".xr-array-wrap {\n",
       "  grid-column: 1 / -1;\n",
       "  display: grid;\n",
       "  grid-template-columns: 20px auto;\n",
       "}\n",
       "\n",
       ".xr-array-wrap > label {\n",
       "  grid-column: 1;\n",
       "  vertical-align: top;\n",
       "}\n",
       "\n",
       ".xr-preview {\n",
       "  color: var(--xr-font-color3);\n",
       "}\n",
       "\n",
       ".xr-array-preview,\n",
       ".xr-array-data {\n",
       "  padding: 0 5px !important;\n",
       "  grid-column: 2;\n",
       "}\n",
       "\n",
       ".xr-array-data,\n",
       ".xr-array-in:checked ~ .xr-array-preview {\n",
       "  display: none;\n",
       "}\n",
       "\n",
       ".xr-array-in:checked ~ .xr-array-data,\n",
       ".xr-array-preview {\n",
       "  display: inline-block;\n",
       "}\n",
       "\n",
       ".xr-dim-list {\n",
       "  display: inline-block !important;\n",
       "  list-style: none;\n",
       "  padding: 0 !important;\n",
       "  margin: 0;\n",
       "}\n",
       "\n",
       ".xr-dim-list li {\n",
       "  display: inline-block;\n",
       "  padding: 0;\n",
       "  margin: 0;\n",
       "}\n",
       "\n",
       ".xr-dim-list:before {\n",
       "  content: '(';\n",
       "}\n",
       "\n",
       ".xr-dim-list:after {\n",
       "  content: ')';\n",
       "}\n",
       "\n",
       ".xr-dim-list li:not(:last-child):after {\n",
       "  content: ',';\n",
       "  padding-right: 5px;\n",
       "}\n",
       "\n",
       ".xr-has-index {\n",
       "  font-weight: bold;\n",
       "}\n",
       "\n",
       ".xr-var-list,\n",
       ".xr-var-item {\n",
       "  display: contents;\n",
       "}\n",
       "\n",
       ".xr-var-item > div,\n",
       ".xr-var-item label,\n",
       ".xr-var-item > .xr-var-name span {\n",
       "  background-color: var(--xr-background-color-row-even);\n",
       "  margin-bottom: 0;\n",
       "}\n",
       "\n",
       ".xr-var-item > .xr-var-name:hover span {\n",
       "  padding-right: 5px;\n",
       "}\n",
       "\n",
       ".xr-var-list > li:nth-child(odd) > div,\n",
       ".xr-var-list > li:nth-child(odd) > label,\n",
       ".xr-var-list > li:nth-child(odd) > .xr-var-name span {\n",
       "  background-color: var(--xr-background-color-row-odd);\n",
       "}\n",
       "\n",
       ".xr-var-name {\n",
       "  grid-column: 1;\n",
       "}\n",
       "\n",
       ".xr-var-dims {\n",
       "  grid-column: 2;\n",
       "}\n",
       "\n",
       ".xr-var-dtype {\n",
       "  grid-column: 3;\n",
       "  text-align: right;\n",
       "  color: var(--xr-font-color2);\n",
       "}\n",
       "\n",
       ".xr-var-preview {\n",
       "  grid-column: 4;\n",
       "}\n",
       "\n",
       ".xr-var-name,\n",
       ".xr-var-dims,\n",
       ".xr-var-dtype,\n",
       ".xr-preview,\n",
       ".xr-attrs dt {\n",
       "  white-space: nowrap;\n",
       "  overflow: hidden;\n",
       "  text-overflow: ellipsis;\n",
       "  padding-right: 10px;\n",
       "}\n",
       "\n",
       ".xr-var-name:hover,\n",
       ".xr-var-dims:hover,\n",
       ".xr-var-dtype:hover,\n",
       ".xr-attrs dt:hover {\n",
       "  overflow: visible;\n",
       "  width: auto;\n",
       "  z-index: 1;\n",
       "}\n",
       "\n",
       ".xr-var-attrs,\n",
       ".xr-var-data {\n",
       "  display: none;\n",
       "  background-color: var(--xr-background-color) !important;\n",
       "  padding-bottom: 5px !important;\n",
       "}\n",
       "\n",
       ".xr-var-attrs-in:checked ~ .xr-var-attrs,\n",
       ".xr-var-data-in:checked ~ .xr-var-data {\n",
       "  display: block;\n",
       "}\n",
       "\n",
       ".xr-var-data > table {\n",
       "  float: right;\n",
       "}\n",
       "\n",
       ".xr-var-name span,\n",
       ".xr-var-data,\n",
       ".xr-attrs {\n",
       "  padding-left: 25px !important;\n",
       "}\n",
       "\n",
       ".xr-attrs,\n",
       ".xr-var-attrs,\n",
       ".xr-var-data {\n",
       "  grid-column: 1 / -1;\n",
       "}\n",
       "\n",
       "dl.xr-attrs {\n",
       "  padding: 0;\n",
       "  margin: 0;\n",
       "  display: grid;\n",
       "  grid-template-columns: 125px auto;\n",
       "}\n",
       "\n",
       ".xr-attrs dt, dd {\n",
       "  padding: 0;\n",
       "  margin: 0;\n",
       "  float: left;\n",
       "  padding-right: 10px;\n",
       "  width: auto;\n",
       "}\n",
       "\n",
       ".xr-attrs dt {\n",
       "  font-weight: normal;\n",
       "  grid-column: 1;\n",
       "}\n",
       "\n",
       ".xr-attrs dt:hover span {\n",
       "  display: inline-block;\n",
       "  background: var(--xr-background-color);\n",
       "  padding-right: 10px;\n",
       "}\n",
       "\n",
       ".xr-attrs dd {\n",
       "  grid-column: 2;\n",
       "  white-space: pre-wrap;\n",
       "  word-break: break-all;\n",
       "}\n",
       "\n",
       ".xr-icon-database,\n",
       ".xr-icon-file-text2 {\n",
       "  display: inline-block;\n",
       "  vertical-align: middle;\n",
       "  width: 1em;\n",
       "  height: 1.5em !important;\n",
       "  stroke-width: 0;\n",
       "  stroke: currentColor;\n",
       "  fill: currentColor;\n",
       "}\n",
       "</style><pre class='xr-text-repr-fallback'>&lt;dtscalibration.DataStore&gt;\n",
       "Sections:                  ()\n",
       "Dimensions:                (time: 3, trans_att: 0, x: 11582)\n",
       "Coordinates:\n",
       "  * x                      (x) float32 -451.37958 -450.87354 ... 5408.9644\n",
       "    filename               (time) &lt;U25 &#x27;15_56_47_BinaryRawDTS.dat&#x27; ... &#x27;16_29...\n",
       "    filename_temp          (time) &lt;U23 &#x27;15_56_47_BinaryTemp.dat&#x27; ... &#x27;16_29_2...\n",
       "    timestart              (time) datetime64[ns] 2009-09-24T00:56:46 ... 2009...\n",
       "    timeend                (time) datetime64[ns] 2009-09-24T00:56:47 ... 2009...\n",
       "  * time                   (time) datetime64[ns] 2009-09-24T00:56:47 ... 2009...\n",
       "    acquisitiontimeFW      (time) timedelta64[ns] 00:00:01 00:00:01 00:00:01\n",
       "  * trans_att              (trans_att) float64 \n",
       "Data variables:\n",
       "    st                     (x, time) int32 39040680 39057147 ... 39071213\n",
       "    ast                    (x, time) int32 39048646 39064414 ... 39407668\n",
       "    tmp                    (x, time) float64 -273.1 -273.1 ... 82.41 82.71\n",
       "    referenceTemperature   (time) float64 28.61 29.24 30.29\n",
       "    st_zero                (time) float64 3.904e+07 3.906e+07 3.907e+07\n",
       "    ast_zero               (time) float64 3.905e+07 3.907e+07 3.908e+07\n",
       "    userAcquisitionTimeFW  (time) float64 1.0 1.0 1.0\n",
       "Attributes:\n",
       "    survey_type:                 2\n",
       "    hdr_version:                 3\n",
       "    x_units:                     n/a\n",
       "    y_units:                     counts\n",
       "    num_points:                  12000\n",
       "    num_pulses:                  25000\n",
       "    channel_id:                  1\n",
       "    num_subtraces:               354\n",
       "    num_skipped:                 0\n",
       "\n",
       ".. and many more attributes. See: ds.attrs</pre><div class='xr-wrap' hidden><div class='xr-header'><div class='xr-obj-type'>xarray.DataStore</div></div><ul class='xr-sections'><li class='xr-section-item'><input id='section-de445aa4-57e0-418a-bd85-e8413f5673b4' class='xr-section-summary-in' type='checkbox' disabled ><label for='section-de445aa4-57e0-418a-bd85-e8413f5673b4' class='xr-section-summary'  title='Expand/collapse section'>Dimensions:</label><div class='xr-section-inline-details'><ul class='xr-dim-list'><li><span class='xr-has-index'>time</span>: 3</li><li><span class='xr-has-index'>trans_att</span>: 0</li><li><span class='xr-has-index'>x</span>: 11582</li></ul></div><div class='xr-section-details'></div></li><li class='xr-section-item'><input id='section-f5b5be7a-a09a-49ba-addf-9bc546ef2fc9' class='xr-section-summary-in' type='checkbox'  checked><label for='section-f5b5be7a-a09a-49ba-addf-9bc546ef2fc9' class='xr-section-summary' >Coordinates: <span>(8)</span></label><div class='xr-section-inline-details'></div><div class='xr-section-details'><ul class='xr-var-list'><li class='xr-var-item'><div class='xr-var-name'><span class='xr-has-index'>x</span></div><div class='xr-var-dims'>(x)</div><div class='xr-var-dtype'>float32</div><div class='xr-var-preview xr-preview'>-451.37958 -450.87354 ... 5408.9644</div><input id='attrs-4c2104d2-6da0-4dc3-87eb-79239633e3c5' class='xr-var-attrs-in' type='checkbox' ><label for='attrs-4c2104d2-6da0-4dc3-87eb-79239633e3c5' title='Show/Hide attributes'><svg class='icon xr-icon-file-text2'><use xlink:href='#icon-file-text2'></use></svg></label><input id='data-955953c7-808a-429f-9430-9fc5483e3a91' class='xr-var-data-in' type='checkbox'><label for='data-955953c7-808a-429f-9430-9fc5483e3a91' title='Show/Hide data repr'><svg class='icon xr-icon-database'><use xlink:href='#icon-database'></use></svg></label><div class='xr-var-attrs'><dl class='xr-attrs'><dt><span>name :</span></dt><dd>distance</dd><dt><span>description :</span></dt><dd>Length along fiber</dd><dt><span>long_description :</span></dt><dd>Starting at connector of forward channel</dd><dt><span>units :</span></dt><dd>m</dd></dl></div><div class='xr-var-data'><pre>array([-451.37958, -450.87354, -450.3675 , ..., 5407.952  , 5408.4585 ,\n",
       "       5408.9644 ], dtype=float32)</pre></div></li><li class='xr-var-item'><div class='xr-var-name'><span>filename</span></div><div class='xr-var-dims'>(time)</div><div class='xr-var-dtype'>&lt;U25</div><div class='xr-var-preview xr-preview'>&#x27;15_56_47_BinaryRawDTS.dat&#x27; ... ...</div><input id='attrs-4771b4c8-671a-404e-9c4e-844b0b4ce080' class='xr-var-attrs-in' type='checkbox' disabled><label for='attrs-4771b4c8-671a-404e-9c4e-844b0b4ce080' title='Show/Hide attributes'><svg class='icon xr-icon-file-text2'><use xlink:href='#icon-file-text2'></use></svg></label><input id='data-c1775360-3d83-479b-a0b8-fd07f16bf031' class='xr-var-data-in' type='checkbox'><label for='data-c1775360-3d83-479b-a0b8-fd07f16bf031' title='Show/Hide data repr'><svg class='icon xr-icon-database'><use xlink:href='#icon-database'></use></svg></label><div class='xr-var-attrs'><dl class='xr-attrs'></dl></div><div class='xr-var-data'><pre>array([&#x27;15_56_47_BinaryRawDTS.dat&#x27;, &#x27;16_11_31_BinaryRawDTS.dat&#x27;,\n",
       "       &#x27;16_29_23_BinaryRawDTS.dat&#x27;], dtype=&#x27;&lt;U25&#x27;)</pre></div></li><li class='xr-var-item'><div class='xr-var-name'><span>filename_temp</span></div><div class='xr-var-dims'>(time)</div><div class='xr-var-dtype'>&lt;U23</div><div class='xr-var-preview xr-preview'>&#x27;15_56_47_BinaryTemp.dat&#x27; ... &#x27;1...</div><input id='attrs-5dcd4ec1-1e72-4430-9ddd-3dbfac1518e7' class='xr-var-attrs-in' type='checkbox' disabled><label for='attrs-5dcd4ec1-1e72-4430-9ddd-3dbfac1518e7' title='Show/Hide attributes'><svg class='icon xr-icon-file-text2'><use xlink:href='#icon-file-text2'></use></svg></label><input id='data-67cef805-6b6a-4d2b-9e01-9280bdfd1fd9' class='xr-var-data-in' type='checkbox'><label for='data-67cef805-6b6a-4d2b-9e01-9280bdfd1fd9' title='Show/Hide data repr'><svg class='icon xr-icon-database'><use xlink:href='#icon-database'></use></svg></label><div class='xr-var-attrs'><dl class='xr-attrs'></dl></div><div class='xr-var-data'><pre>array([&#x27;15_56_47_BinaryTemp.dat&#x27;, &#x27;16_11_31_BinaryTemp.dat&#x27;,\n",
       "       &#x27;16_29_23_BinaryTemp.dat&#x27;], dtype=&#x27;&lt;U23&#x27;)</pre></div></li><li class='xr-var-item'><div class='xr-var-name'><span>timestart</span></div><div class='xr-var-dims'>(time)</div><div class='xr-var-dtype'>datetime64[ns]</div><div class='xr-var-preview xr-preview'>2009-09-24T00:56:46 ... 2009-09-...</div><input id='attrs-c2eb175e-a3aa-44b2-aab1-c85c2fd99b0b' class='xr-var-attrs-in' type='checkbox' ><label for='attrs-c2eb175e-a3aa-44b2-aab1-c85c2fd99b0b' title='Show/Hide attributes'><svg class='icon xr-icon-file-text2'><use xlink:href='#icon-file-text2'></use></svg></label><input id='data-c0c601be-e28a-4c8b-af2a-f779334ba7ca' class='xr-var-data-in' type='checkbox'><label for='data-c0c601be-e28a-4c8b-af2a-f779334ba7ca' title='Show/Hide data repr'><svg class='icon xr-icon-database'><use xlink:href='#icon-database'></use></svg></label><div class='xr-var-attrs'><dl class='xr-attrs'><dt><span>description :</span></dt><dd>time start of the measurement</dd><dt><span>timezone :</span></dt><dd>UTC</dd></dl></div><div class='xr-var-data'><pre>array([&#x27;2009-09-24T00:56:46.000000000&#x27;, &#x27;2009-09-24T01:11:30.000000000&#x27;,\n",
       "       &#x27;2009-09-24T01:29:22.000000000&#x27;], dtype=&#x27;datetime64[ns]&#x27;)</pre></div></li><li class='xr-var-item'><div class='xr-var-name'><span>timeend</span></div><div class='xr-var-dims'>(time)</div><div class='xr-var-dtype'>datetime64[ns]</div><div class='xr-var-preview xr-preview'>2009-09-24T00:56:47 ... 2009-09-...</div><input id='attrs-82554ab3-7ff0-4ab6-8789-5d6de9f9f5a7' class='xr-var-attrs-in' type='checkbox' ><label for='attrs-82554ab3-7ff0-4ab6-8789-5d6de9f9f5a7' title='Show/Hide attributes'><svg class='icon xr-icon-file-text2'><use xlink:href='#icon-file-text2'></use></svg></label><input id='data-3e5de4b4-f837-4068-adfd-34a109daeecf' class='xr-var-data-in' type='checkbox'><label for='data-3e5de4b4-f837-4068-adfd-34a109daeecf' title='Show/Hide data repr'><svg class='icon xr-icon-database'><use xlink:href='#icon-database'></use></svg></label><div class='xr-var-attrs'><dl class='xr-attrs'><dt><span>description :</span></dt><dd>time end of the measurement</dd><dt><span>timezone :</span></dt><dd>UTC</dd></dl></div><div class='xr-var-data'><pre>array([&#x27;2009-09-24T00:56:47.000000000&#x27;, &#x27;2009-09-24T01:11:31.000000000&#x27;,\n",
       "       &#x27;2009-09-24T01:29:23.000000000&#x27;], dtype=&#x27;datetime64[ns]&#x27;)</pre></div></li><li class='xr-var-item'><div class='xr-var-name'><span class='xr-has-index'>time</span></div><div class='xr-var-dims'>(time)</div><div class='xr-var-dtype'>datetime64[ns]</div><div class='xr-var-preview xr-preview'>2009-09-24T00:56:47 ... 2009-09-...</div><input id='attrs-6e6b6bf7-5b5f-40c4-9ecf-3031174d432a' class='xr-var-attrs-in' type='checkbox' ><label for='attrs-6e6b6bf7-5b5f-40c4-9ecf-3031174d432a' title='Show/Hide attributes'><svg class='icon xr-icon-file-text2'><use xlink:href='#icon-file-text2'></use></svg></label><input id='data-879b327d-19df-428c-bf02-521ea2f386dd' class='xr-var-data-in' type='checkbox'><label for='data-879b327d-19df-428c-bf02-521ea2f386dd' title='Show/Hide data repr'><svg class='icon xr-icon-database'><use xlink:href='#icon-database'></use></svg></label><div class='xr-var-attrs'><dl class='xr-attrs'><dt><span>description :</span></dt><dd>time halfway the measurement</dd><dt><span>timezone :</span></dt><dd>UTC</dd></dl></div><div class='xr-var-data'><pre>array([&#x27;2009-09-24T00:56:47.000000000&#x27;, &#x27;2009-09-24T01:11:31.000000000&#x27;,\n",
       "       &#x27;2009-09-24T01:29:23.000000000&#x27;], dtype=&#x27;datetime64[ns]&#x27;)</pre></div></li><li class='xr-var-item'><div class='xr-var-name'><span>acquisitiontimeFW</span></div><div class='xr-var-dims'>(time)</div><div class='xr-var-dtype'>timedelta64[ns]</div><div class='xr-var-preview xr-preview'>00:00:01 00:00:01 00:00:01</div><input id='attrs-52eb08b0-0973-407d-adc6-98c63a07f0f1' class='xr-var-attrs-in' type='checkbox' ><label for='attrs-52eb08b0-0973-407d-adc6-98c63a07f0f1' title='Show/Hide attributes'><svg class='icon xr-icon-file-text2'><use xlink:href='#icon-file-text2'></use></svg></label><input id='data-0eaa82a0-42d1-467b-af4d-11f2ba04fbf4' class='xr-var-data-in' type='checkbox'><label for='data-0eaa82a0-42d1-467b-af4d-11f2ba04fbf4' title='Show/Hide data repr'><svg class='icon xr-icon-database'><use xlink:href='#icon-database'></use></svg></label><div class='xr-var-attrs'><dl class='xr-attrs'><dt><span>description :</span></dt><dd>Acquisition time of the forward measurement</dd></dl></div><div class='xr-var-data'><pre>array([1000000000, 1000000000, 1000000000], dtype=&#x27;timedelta64[ns]&#x27;)</pre></div></li><li class='xr-var-item'><div class='xr-var-name'><span class='xr-has-index'>trans_att</span></div><div class='xr-var-dims'>(trans_att)</div><div class='xr-var-dtype'>float64</div><div class='xr-var-preview xr-preview'></div><input id='attrs-d3bfde74-7abb-408c-9eef-e4d98bf92477' class='xr-var-attrs-in' type='checkbox' ><label for='attrs-d3bfde74-7abb-408c-9eef-e4d98bf92477' title='Show/Hide attributes'><svg class='icon xr-icon-file-text2'><use xlink:href='#icon-file-text2'></use></svg></label><input id='data-8b5a24fe-8ee0-4d40-9c62-2ae58c2c60be' class='xr-var-data-in' type='checkbox'><label for='data-8b5a24fe-8ee0-4d40-9c62-2ae58c2c60be' title='Show/Hide data repr'><svg class='icon xr-icon-database'><use xlink:href='#icon-database'></use></svg></label><div class='xr-var-attrs'><dl class='xr-attrs'><dt><span>name :</span></dt><dd>Locations introducing transient directional differential attenuation</dd><dt><span>description :</span></dt><dd>Locations along the x-dimension introducing transient directional differential attenuation</dd><dt><span>long_description :</span></dt><dd>Connectors introduce additional differential attenuation that is different for the forward and backward direction, and varies over time.</dd><dt><span>units :</span></dt><dd>m</dd></dl></div><div class='xr-var-data'><pre>array([], dtype=float64)</pre></div></li></ul></div></li><li class='xr-section-item'><input id='section-387515fb-441f-4910-b4f1-e0b6b3ef8374' class='xr-section-summary-in' type='checkbox'  checked><label for='section-387515fb-441f-4910-b4f1-e0b6b3ef8374' class='xr-section-summary' >Data variables: <span>(7)</span></label><div class='xr-section-inline-details'></div><div class='xr-section-details'><ul class='xr-var-list'><li class='xr-var-item'><div class='xr-var-name'><span>st</span></div><div class='xr-var-dims'>(x, time)</div><div class='xr-var-dtype'>int32</div><div class='xr-var-preview xr-preview'>39040680 39057147 ... 39071213</div><input id='attrs-d730e8fc-df70-4024-bd6b-796cb9716884' class='xr-var-attrs-in' type='checkbox' ><label for='attrs-d730e8fc-df70-4024-bd6b-796cb9716884' title='Show/Hide attributes'><svg class='icon xr-icon-file-text2'><use xlink:href='#icon-file-text2'></use></svg></label><input id='data-882502d8-e274-4a40-adec-cf1d63f19ac7' class='xr-var-data-in' type='checkbox'><label for='data-882502d8-e274-4a40-adec-cf1d63f19ac7' title='Show/Hide data repr'><svg class='icon xr-icon-database'><use xlink:href='#icon-database'></use></svg></label><div class='xr-var-attrs'><dl class='xr-attrs'><dt><span>name :</span></dt><dd>st</dd><dt><span>description :</span></dt><dd>Stokes intensity</dd><dt><span>units :</span></dt><dd>-</dd></dl></div><div class='xr-var-data'><pre>array([[39040680, 39057147, 39067220],\n",
       "       [39038580, 39053177, 39063543],\n",
       "       [39038768, 39054349, 39064780],\n",
       "       ...,\n",
       "       [39155768, 39179638, 39196217],\n",
       "       [39046316, 39063478, 39073966],\n",
       "       [39046948, 39061160, 39071213]], dtype=int32)</pre></div></li><li class='xr-var-item'><div class='xr-var-name'><span>ast</span></div><div class='xr-var-dims'>(x, time)</div><div class='xr-var-dtype'>int32</div><div class='xr-var-preview xr-preview'>39048646 39064414 ... 39407668</div><input id='attrs-16d24ee6-696d-47ca-9ca9-487cfddf281f' class='xr-var-attrs-in' type='checkbox' ><label for='attrs-16d24ee6-696d-47ca-9ca9-487cfddf281f' title='Show/Hide attributes'><svg class='icon xr-icon-file-text2'><use xlink:href='#icon-file-text2'></use></svg></label><input id='data-f98b76f4-bf90-4765-a866-aa4a1d7f9712' class='xr-var-data-in' type='checkbox'><label for='data-f98b76f4-bf90-4765-a866-aa4a1d7f9712' title='Show/Hide data repr'><svg class='icon xr-icon-database'><use xlink:href='#icon-database'></use></svg></label><div class='xr-var-attrs'><dl class='xr-attrs'><dt><span>name :</span></dt><dd>ast</dd><dt><span>description :</span></dt><dd>anti-Stokes intensity</dd><dt><span>units :</span></dt><dd>-</dd></dl></div><div class='xr-var-data'><pre>array([[39048646, 39064414, 39074033],\n",
       "       [39046719, 39060574, 39071003],\n",
       "       [39046655, 39061723, 39072593],\n",
       "       ...,\n",
       "       [39304136, 39313172, 39321329],\n",
       "       [39461032, 39474405, 39483689],\n",
       "       [39362443, 39388893, 39407668]], dtype=int32)</pre></div></li><li class='xr-var-item'><div class='xr-var-name'><span>tmp</span></div><div class='xr-var-dims'>(x, time)</div><div class='xr-var-dtype'>float64</div><div class='xr-var-preview xr-preview'>-273.1 -273.1 ... 82.41 82.71</div><input id='attrs-436f96a5-53ee-4caa-b2a1-7d14e17e7707' class='xr-var-attrs-in' type='checkbox' ><label for='attrs-436f96a5-53ee-4caa-b2a1-7d14e17e7707' title='Show/Hide attributes'><svg class='icon xr-icon-file-text2'><use xlink:href='#icon-file-text2'></use></svg></label><input id='data-ea82ca17-1eac-436a-b2b6-653c63f09b22' class='xr-var-data-in' type='checkbox'><label for='data-ea82ca17-1eac-436a-b2b6-653c63f09b22' title='Show/Hide data repr'><svg class='icon xr-icon-database'><use xlink:href='#icon-database'></use></svg></label><div class='xr-var-attrs'><dl class='xr-attrs'><dt><span>name :</span></dt><dd>tmp</dd><dt><span>description :</span></dt><dd>Temperature calibrated by device</dd><dt><span>units :</span></dt><dd>degC</dd></dl></div><div class='xr-var-data'><pre>array([[-273.1499939 , -273.1499939 , -273.1499939 ],\n",
       "       [-273.1499939 , -273.1499939 , -273.1499939 ],\n",
       "       [-273.1499939 , -273.1499939 , -273.1499939 ],\n",
       "       ...,\n",
       "       [  51.81999969,   49.75999832,   48.02000046],\n",
       "       [  74.16000366,   73.44999695,   72.34999847],\n",
       "       [  80.91000366,   82.41000366,   82.70999908]])</pre></div></li><li class='xr-var-item'><div class='xr-var-name'><span>referenceTemperature</span></div><div class='xr-var-dims'>(time)</div><div class='xr-var-dtype'>float64</div><div class='xr-var-preview xr-preview'>28.61 29.24 30.29</div><input id='attrs-7a7694c4-9bb8-4b5c-b59f-fb0daf5533ec' class='xr-var-attrs-in' type='checkbox' ><label for='attrs-7a7694c4-9bb8-4b5c-b59f-fb0daf5533ec' title='Show/Hide attributes'><svg class='icon xr-icon-file-text2'><use xlink:href='#icon-file-text2'></use></svg></label><input id='data-a11bcb3d-77cf-4af9-82c0-493f31a527d1' class='xr-var-data-in' type='checkbox'><label for='data-a11bcb3d-77cf-4af9-82c0-493f31a527d1' title='Show/Hide data repr'><svg class='icon xr-icon-database'><use xlink:href='#icon-database'></use></svg></label><div class='xr-var-attrs'><dl class='xr-attrs'><dt><span>name :</span></dt><dd>reference temperature</dd><dt><span>description :</span></dt><dd>Internal reference temperature</dd><dt><span>units :</span></dt><dd>degC</dd></dl></div><div class='xr-var-data'><pre>array([28.61147461, 29.23735962, 30.29247437])</pre></div></li><li class='xr-var-item'><div class='xr-var-name'><span>st_zero</span></div><div class='xr-var-dims'>(time)</div><div class='xr-var-dtype'>float64</div><div class='xr-var-preview xr-preview'>3.904e+07 3.906e+07 3.907e+07</div><input id='attrs-314d4c61-2d5c-416c-9eb1-d52f9e46f4f0' class='xr-var-attrs-in' type='checkbox' ><label for='attrs-314d4c61-2d5c-416c-9eb1-d52f9e46f4f0' title='Show/Hide attributes'><svg class='icon xr-icon-file-text2'><use xlink:href='#icon-file-text2'></use></svg></label><input id='data-c3703f74-fff0-44cc-8782-56966e9e3547' class='xr-var-data-in' type='checkbox'><label for='data-c3703f74-fff0-44cc-8782-56966e9e3547' title='Show/Hide data repr'><svg class='icon xr-icon-database'><use xlink:href='#icon-database'></use></svg></label><div class='xr-var-attrs'><dl class='xr-attrs'><dt><span>name :</span></dt><dd>ST_zero</dd><dt><span>description :</span></dt><dd>Stokes zero count</dd><dt><span>units :</span></dt><dd>counts</dd></dl></div><div class='xr-var-data'><pre>array([39042026.18660287, 39057430.34449761, 39067731.48325359])</pre></div></li><li class='xr-var-item'><div class='xr-var-name'><span>ast_zero</span></div><div class='xr-var-dims'>(time)</div><div class='xr-var-dtype'>float64</div><div class='xr-var-preview xr-preview'>3.905e+07 3.907e+07 3.908e+07</div><input id='attrs-666fabb7-a7d9-4a3d-8b34-e720ea023f1f' class='xr-var-attrs-in' type='checkbox' ><label for='attrs-666fabb7-a7d9-4a3d-8b34-e720ea023f1f' title='Show/Hide attributes'><svg class='icon xr-icon-file-text2'><use xlink:href='#icon-file-text2'></use></svg></label><input id='data-8a904692-60b1-4a2f-988c-31cd80480b8d' class='xr-var-data-in' type='checkbox'><label for='data-8a904692-60b1-4a2f-988c-31cd80480b8d' title='Show/Hide data repr'><svg class='icon xr-icon-database'><use xlink:href='#icon-database'></use></svg></label><div class='xr-var-attrs'><dl class='xr-attrs'><dt><span>name :</span></dt><dd>AST_zero</dd><dt><span>description :</span></dt><dd>anit-Stokes zero count</dd><dt><span>units :</span></dt><dd>counts</dd></dl></div><div class='xr-var-data'><pre>array([39050438.62200957, 39065503.        , 39075698.97607656])</pre></div></li><li class='xr-var-item'><div class='xr-var-name'><span>userAcquisitionTimeFW</span></div><div class='xr-var-dims'>(time)</div><div class='xr-var-dtype'>float64</div><div class='xr-var-preview xr-preview'>1.0 1.0 1.0</div><input id='attrs-998ac4a0-ed3b-4b71-97e0-9364bd651a64' class='xr-var-attrs-in' type='checkbox' ><label for='attrs-998ac4a0-ed3b-4b71-97e0-9364bd651a64' title='Show/Hide attributes'><svg class='icon xr-icon-file-text2'><use xlink:href='#icon-file-text2'></use></svg></label><input id='data-50484c64-3e4d-4d34-abb1-bc0c0e8a99de' class='xr-var-data-in' type='checkbox'><label for='data-50484c64-3e4d-4d34-abb1-bc0c0e8a99de' title='Show/Hide data repr'><svg class='icon xr-icon-database'><use xlink:href='#icon-database'></use></svg></label><div class='xr-var-attrs'><dl class='xr-attrs'><dt><span>name :</span></dt><dd>userAcquisitionTimeFW</dd><dt><span>description :</span></dt><dd>Measurement duration of forward channel</dd><dt><span>long_description :</span></dt><dd>Desired measurement duration of forward channel</dd><dt><span>units :</span></dt><dd>seconds</dd></dl></div><div class='xr-var-data'><pre>array([1., 1., 1.])</pre></div></li></ul></div></li><li class='xr-section-item'><input id='section-860bbd96-a457-4f29-a96a-411cf5700e4a' class='xr-section-summary-in' type='checkbox'  ><label for='section-860bbd96-a457-4f29-a96a-411cf5700e4a' class='xr-section-summary' >Attributes: <span>(16)</span></label><div class='xr-section-inline-details'></div><div class='xr-section-details'><dl class='xr-attrs'><dt><span>survey_type :</span></dt><dd>2</dd><dt><span>hdr_version :</span></dt><dd>3</dd><dt><span>x_units :</span></dt><dd>n/a</dd><dt><span>y_units :</span></dt><dd>counts</dd><dt><span>num_points :</span></dt><dd>12000</dd><dt><span>num_pulses :</span></dt><dd>25000</dd><dt><span>channel_id :</span></dt><dd>1</dd><dt><span>num_subtraces :</span></dt><dd>354</dd><dt><span>num_skipped :</span></dt><dd>0</dd><dt><span>probe_name :</span></dt><dd>walla1</dd><dt><span>hdr_size :</span></dt><dd>176</dd><dt><span>hw_config :</span></dt><dd>84</dd><dt><span>isDoubleEnded :</span></dt><dd>0</dd><dt><span>forwardMeasurementChannel :</span></dt><dd>0</dd><dt><span>backwardMeasurementChannel :</span></dt><dd>N/A</dd><dt><span>_sections :</span></dt><dd>null\n",
       "...\n",
       "</dd></dl></div></li></ul></div></div>"
      ],
      "text/plain": [
       "<dtscalibration.DataStore>\n",
       "Sections:                  ()\n",
       "Dimensions:                (time: 3, trans_att: 0, x: 11582)\n",
       "Coordinates:\n",
       "  * x                      (x) float32 -451.37958 -450.87354 ... 5408.9644\n",
       "    filename               (time) <U25 '15_56_47_BinaryRawDTS.dat' ... '16_29...\n",
       "    filename_temp          (time) <U23 '15_56_47_BinaryTemp.dat' ... '16_29_2...\n",
       "    timestart              (time) datetime64[ns] 2009-09-24T00:56:46 ... 2009...\n",
       "    timeend                (time) datetime64[ns] 2009-09-24T00:56:47 ... 2009...\n",
       "  * time                   (time) datetime64[ns] 2009-09-24T00:56:47 ... 2009...\n",
       "    acquisitiontimeFW      (time) timedelta64[ns] 00:00:01 00:00:01 00:00:01\n",
       "  * trans_att              (trans_att) float64 \n",
       "Data variables:\n",
       "    st                     (x, time) int32 39040680 39057147 ... 39071213\n",
       "    ast                    (x, time) int32 39048646 39064414 ... 39407668\n",
       "    tmp                    (x, time) float64 -273.1 -273.1 ... 82.41 82.71\n",
       "    referenceTemperature   (time) float64 28.61 29.24 30.29\n",
       "    st_zero                (time) float64 3.904e+07 3.906e+07 3.907e+07\n",
       "    ast_zero               (time) float64 3.905e+07 3.907e+07 3.908e+07\n",
       "    userAcquisitionTimeFW  (time) float64 1.0 1.0 1.0\n",
       "Attributes:\n",
       "    survey_type:                 2\n",
       "    hdr_version:                 3\n",
       "    x_units:                     n/a\n",
       "    y_units:                     counts\n",
       "    num_points:                  12000\n",
       "    num_pulses:                  25000\n",
       "    channel_id:                  1\n",
       "    num_subtraces:               354\n",
       "    num_skipped:                 0\n",
       "\n",
       ".. and many more attributes. See: ds.attrs"
      ]
     },
     "execution_count": 1,
     "metadata": {},
     "output_type": "execute_result"
    }
   ],
   "source": [
    "ds"
   ]
  },
  {
   "cell_type": "code",
   "execution_count": 7,
   "metadata": {
    "execution": {
     "iopub.execute_input": "2020-10-13T14:36:09.999083Z",
     "iopub.status.busy": "2020-10-13T14:36:09.991878Z",
     "iopub.status.idle": "2020-10-13T14:36:10.011963Z",
     "shell.execute_reply": "2020-10-13T14:36:10.012439Z"
    }
   },
   "outputs": [
    {
     "data": {
      "text/plain": [
       "<matplotlib.lines.Line2D at 0x7fb61c09c450>"
      ]
     },
     "execution_count": 1,
     "metadata": {},
     "output_type": "execute_result"
    }
   ],
   "source": [
    "ds0 = ds.isel(time=0)\n",
    "\n",
    "plt.figure()\n",
    "ds0.st.plot(label='Stokes signal')\n",
    "plt.axhline(ds0.st_zero.values, c='r', label=\"'zero' measurement\")\n",
    "plt.legend()\n",
    "plt.title('')\n",
    "plt.axhline(c='k')"
   ]
  },
  {
   "cell_type": "markdown",
   "metadata": {},
   "source": [
    "After a correction and rescaling (for human readability) the data will look more like other manufacturer's devices"
   ]
  },
  {
   "cell_type": "code",
   "execution_count": 8,
   "metadata": {
    "execution": {
     "iopub.execute_input": "2020-10-13T14:36:10.017460Z",
     "iopub.status.busy": "2020-10-13T14:36:10.016730Z",
     "iopub.status.idle": "2020-10-13T14:36:10.024777Z",
     "shell.execute_reply": "2020-10-13T14:36:10.025299Z"
    }
   },
   "outputs": [],
   "source": [
    "ds['st'] = (ds.st - ds.st_zero)/1e4\n",
    "ds['ast'] = (ds.ast - ds.ast_zero)/1e4"
   ]
  },
  {
   "cell_type": "code",
   "execution_count": 9,
   "metadata": {
    "execution": {
     "iopub.execute_input": "2020-10-13T14:36:10.031123Z",
     "iopub.status.busy": "2020-10-13T14:36:10.030443Z",
     "iopub.status.idle": "2020-10-13T14:36:10.042892Z",
     "shell.execute_reply": "2020-10-13T14:36:10.043364Z"
    }
   },
   "outputs": [
    {
     "data": {
      "text/plain": [
       "(-50.0, 500.0)"
      ]
     },
     "execution_count": 1,
     "metadata": {},
     "output_type": "execute_result"
    }
   ],
   "source": [
    "ds.isel(time=0).st.plot(label='Stokes intensity')\n",
    "ds.isel(time=0).ast.plot(label='anti-Stokes intensity')\n",
    "plt.legend()\n",
    "plt.axhline(c='k', lw=1)\n",
    "plt.xlabel('')\n",
    "plt.title('')\n",
    "plt.ylim([-50,500])"
   ]
  },
  {
   "cell_type": "code",
   "execution_count": null,
   "metadata": {},
   "outputs": [],
   "source": []
  }
 ],
 "metadata": {
  "kernelspec": {
   "display_name": "Python 3",
   "language": "python",
   "name": "python3"
  },
  "language_info": {
   "codemirror_mode": {
    "name": "ipython",
    "version": 3
   },
   "file_extension": ".py",
   "mimetype": "text/x-python",
   "name": "python",
   "nbconvert_exporter": "python",
   "pygments_lexer": "ipython3",
   "version": "3.7.7"
  }
 },
 "nbformat": 4,
 "nbformat_minor": 2
}
