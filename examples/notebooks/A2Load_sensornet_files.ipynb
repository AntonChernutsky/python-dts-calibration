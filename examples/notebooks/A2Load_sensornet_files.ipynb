{
 "cells": [
  {
   "cell_type": "markdown",
   "metadata": {},
   "source": [
    "# A2. Loading sensornet files\n",
    "This example loads sensornet files. Both single-ended and double-ended measurements are supported."
   ]
  },
  {
   "cell_type": "code",
   "execution_count": 1,
   "metadata": {},
   "outputs": [],
   "source": [
    "import os\n",
    "import glob\n",
    "\n",
    "from dtscalibration import read_sensornet_files"
   ]
  },
  {
   "cell_type": "markdown",
   "metadata": {},
   "source": [
    "The example data files are located in `./python-dts-calibration/tests/data`."
   ]
  },
  {
   "cell_type": "code",
   "execution_count": 2,
   "metadata": {},
   "outputs": [
    {
     "name": "stdout",
     "output_type": "stream",
     "text": [
      "..\\..\\tests\\data\\sensornet_oryx_v3.7\n"
     ]
    }
   ],
   "source": [
    "filepath = os.path.join('..', '..', 'tests', 'data', 'sensornet_oryx_v3.7')\n",
    "print(filepath)"
   ]
  },
  {
   "cell_type": "code",
   "execution_count": 3,
   "metadata": {},
   "outputs": [
    {
     "name": "stdout",
     "output_type": "stream",
     "text": [
      "channel 1 20180107 202119 00001.ddf\n",
      "channel 1 20180107 202149 00001.ddf\n",
      "channel 1 20180107 202219 00001.ddf\n",
      "channel 1 20180107 202249 00001.ddf\n",
      "channel 1 20180107 202319 00001.ddf\n",
      "channel 1 20180107 202349 00001.ddf\n",
      "channel 1 20180107 202418 00001.ddf\n"
     ]
    }
   ],
   "source": [
    "filepathlist = sorted(glob.glob(os.path.join(filepath, '*.ddf')))\n",
    "filenamelist = [os.path.basename(path) for path in filepathlist]\n",
    "\n",
    "for fn in filenamelist:\n",
    "    print(fn)"
   ]
  },
  {
   "cell_type": "markdown",
   "metadata": {},
   "source": [
    "We will simply load in the sensornet files. As the sensornet files are of low spatial and temporal resolution, reading the data lazily into dask is not supported."
   ]
  },
  {
   "cell_type": "code",
   "execution_count": 4,
   "metadata": {},
   "outputs": [
    {
     "name": "stdout",
     "output_type": "stream",
     "text": [
      "7 files were found, each representing a single timestep\n",
      "Recorded at 2068 points along the cable\n",
      "The measurement is single ended\n"
     ]
    }
   ],
   "source": [
    "ds = read_sensornet_files(directory=filepath)"
   ]
  },
  {
   "cell_type": "markdown",
   "metadata": {},
   "source": [
    "The object tries to gather as much metadata from the measurement files as possible (temporal and spatial coordinates, filenames, temperature probes measurements). All other configuration settings are loaded from the first files and stored as attributes of the `DataStore`."
   ]
  },
  {
   "cell_type": "code",
   "execution_count": 5,
   "metadata": {},
   "outputs": [
    {
     "name": "stdout",
     "output_type": "stream",
     "text": [
      "<dtscalibration.DataStore>\n",
      "Sections:                  ()\n",
      "Dimensions:                (time: 7, x: 2068)\n",
      "Coordinates:\n",
      "  * x                      (x) float64 -747.0 -746.0 ... 1.349e+03 1.35e+03\n",
      "    filename               (time) <U35 'channel 1 20180107 202119 00001.ddf' ... 'channel 1 20180107 202418 00001.ddf'\n",
      "    timestart              (time) datetime64[ns] 2018-01-07T20:20:49 ... 2018-01-07T20:23:48\n",
      "    timeend                (time) datetime64[ns] 2018-01-07T20:21:19 ... 2018-01-07T20:24:18\n",
      "  * time                   (time) datetime64[ns] 2018-01-07T20:21:04 ... 2018-01-07T20:24:03\n",
      "    acquisitiontimeFW      (time) timedelta64[ns] 00:00:30 00:00:30 ... 00:00:30\n",
      "Data variables:\n",
      "    ST                     (x, time) float64 0.675 -0.21 ... -0.036 -0.102\n",
      "    AST                    (x, time) float64 -0.228 -0.049 ... 0.057 0.399\n",
      "    TMP                    (x, time) float64 -64.76 -92.32 ... 407.0 -200.0\n",
      "    probe1Temperature      (time) float64 3.12 3.09 3.09 3.07 3.07 3.12 3.07\n",
      "    probe2Temperature      (time) float64 1.259e+03 1.259e+03 ... 1.259e+03\n",
      "    referenceTemperature   (time) float64 15.34 15.37 15.34 ... 15.34 15.31\n",
      "    gamma_ddf              (time) float64 498.8 498.8 498.8 ... 498.8 498.8\n",
      "    k_internal             (time) float64 0.2786 0.2787 0.2786 ... 0.2785 0.2785\n",
      "    k_external             (time) float64 0.2786 0.2787 0.2786 ... 0.2785 0.2785\n",
      "    userAcquisitionTimeFW  (time) float64 30.0 30.0 30.0 30.0 30.0 30.0 30.0\n",
      "    userAcquisitionTimeBW  (time) float64 0.0 0.0 0.0 0.0 0.0 0.0 0.0\n",
      "Attributes:\n",
      "    DTS Sentinel unit serial number::  SN409017\n",
      "    Multiplexer serial number::        ORYX\n",
      "    Hardware model number::            OX4\n",
      "    Software version number::          ORYX F/W v1.02 Oryx Data Collector v3....\n",
      "    data status:                       ok\n",
      "    installation:                      speulderbos2017nov21\n",
      "    differential loss correction:      single-ended\n",
      "    forward channel:                   channel 1\n",
      "    reverse channel:                   N/A\n",
      "\n",
      ".. and many more attributes. See: ds.attrs\n"
     ]
    }
   ],
   "source": [
    "print(ds)"
   ]
  },
  {
   "cell_type": "markdown",
   "metadata": {},
   "source": [
    "\n",
    "\n",
    "Double ended sensornet files are also supported. Note the REV-ST and REV-AST data variables."
   ]
  },
  {
   "cell_type": "code",
   "execution_count": 6,
   "metadata": {},
   "outputs": [
    {
     "name": "stdout",
     "output_type": "stream",
     "text": [
      "5 files were found, each representing a single timestep\n",
      "Recorded at 978 points along the cable\n",
      "The measurement is double ended\n",
      "<dtscalibration.DataStore>\n",
      "Sections:                  ()\n",
      "Dimensions:                (time: 5, x: 664)\n",
      "Coordinates:\n",
      "  * x                      (x) float64 -49.28 -47.25 ... 1.294e+03 1.296e+03\n",
      "    filename               (time) <U32 'channel 1 20030111 002 00001.ddf' ... 'channel 1 20030111 002 00005.ddf'\n",
      "    timeFWstart            (time) datetime64[ns] 2003-01-11T03:05:09 ... 2003-01-11T03:21:09\n",
      "    timeFWend              (time) datetime64[ns] 2003-01-11T03:06:09 ... 2003-01-11T03:22:09\n",
      "    timeFW                 (time) datetime64[ns] 2003-01-11T03:05:39 ... 2003-01-11T03:21:39\n",
      "    timeBWstart            (time) datetime64[ns] 2003-01-11T03:06:09 ... 2003-01-11T03:22:09\n",
      "    timeBWend              (time) datetime64[ns] 2003-01-11T03:07:09 ... 2003-01-11T03:23:09\n",
      "    timeBW                 (time) datetime64[ns] 2003-01-11T03:06:39 ... 2003-01-11T03:22:39\n",
      "    timestart              (time) datetime64[ns] 2003-01-11T03:05:09 ... 2003-01-11T03:21:09\n",
      "    timeend                (time) datetime64[ns] 2003-01-11T03:07:09 ... 2003-01-11T03:23:09\n",
      "  * time                   (time) datetime64[ns] 2003-01-11T03:06:09 ... 2003-01-11T03:22:09\n",
      "    acquisitiontimeFW      (time) timedelta64[ns] 00:01:00 00:01:00 ... 00:01:00\n",
      "    acquisitiontimeBW      (time) timedelta64[ns] 00:01:00 00:01:00 ... 00:01:00\n",
      "Data variables:\n",
      "    ST                     (x, time) float64 1.882e+03 1.876e+03 ... 359.0 358.7\n",
      "    AST                    (x, time) float64 2.137e+03 2.135e+03 ... 347.3 347.2\n",
      "    TMP                    (x, time) float64 84.19 71.0 81.6 ... 38.62 38.69\n",
      "    probe1Temperature      (time) float64 nan nan nan nan nan\n",
      "    probe2Temperature      (time) float64 nan nan nan nan nan\n",
      "    referenceTemperature   (time) float64 34.42 34.31 34.25 34.25 34.25\n",
      "    gamma_ddf              (time) float64 510.4 510.4 510.4 510.4 510.4\n",
      "    k_internal             (time) float64 0.1902 0.1898 0.1898 0.1898 0.1898\n",
      "    k_external             (time) float64 0.1902 0.1898 0.1898 0.1898 0.1898\n",
      "    userAcquisitionTimeFW  (time) float64 60.05 60.05 60.05 60.05 60.05\n",
      "    userAcquisitionTimeBW  (time) float64 60.08 60.06 60.05 60.05 60.05\n",
      "    REV-ST                 (x, time) float64 354.1 352.1 ... 1.76e+03 1.759e+03\n",
      "    REV-AST                (x, time) float64 342.0 340.5 ... 2.242e+03 2.241e+03\n",
      "Attributes:\n",
      "    DTS Sentinel unit serial number::  SN307009\n",
      "    Multiplexer serial number::        multiplexer serial number\n",
      "    Hardware model number::            HL4\n",
      "    Software version number::          Halo DTS v1.0\n",
      "    data status:                       ok\n",
      "    installation:                      NYAN30AUG2019\n",
      "    differential loss correction:      combined\n",
      "    forward channel:                   channel 1\n",
      "    reverse channel:                   channel 1 reverse\n",
      "\n",
      ".. and many more attributes. See: ds.attrs\n"
     ]
    }
   ],
   "source": [
    "filepath = os.path.join('..', '..', 'tests', 'data', 'sensornet_halo_v1.0')\n",
    "ds = read_sensornet_files(directory=filepath)\n",
    "print(ds)"
   ]
  }
 ],
 "metadata": {
  "kernelspec": {
   "display_name": "Python 3",
   "language": "python",
   "name": "python3"
  },
  "language_info": {
   "codemirror_mode": {
    "name": "ipython",
    "version": 3
   },
   "file_extension": ".py",
   "mimetype": "text/x-python",
   "name": "python",
   "nbconvert_exporter": "python",
   "pygments_lexer": "ipython3",
   "version": "3.7.3"
  }
 },
 "nbformat": 4,
 "nbformat_minor": 2
}
