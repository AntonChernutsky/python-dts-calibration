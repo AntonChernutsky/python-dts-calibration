{
 "cells": [
  {
   "cell_type": "markdown",
   "metadata": {},
   "source": [
    "# 1. Load your first measurement files\n",
    "This notebook is located in https://github.com/bdestombe/python-dts-calibration/tree/master/examples/notebooks\n",
    "\n",
    "The goal of this notebook is to show the different options of loading measurements from raw DTS files. These files are loaded into a `DataStore` object. This object has various methods for calibration, plotting. The current supported devices are:\n",
    "- Silixa\n",
    "- Sensornet\n",
    "\n",
    "This example loads Silixa files. Both single-ended and double-ended measurements are supported. The first step is to load the correct read routine from `dtscalibration`.\n",
    "- Silixa -> `dtscalibration.read_silixa_files`\n",
    "- Sensornet -> `dtscalibration.read_sensornet_files`"
   ]
  },
  {
   "cell_type": "code",
   "execution_count": 1,
   "metadata": {
    "execution": {
     "iopub.execute_input": "2020-10-13T13:23:37.675609Z",
     "iopub.status.busy": "2020-10-13T13:23:37.674653Z",
     "iopub.status.idle": "2020-10-13T13:23:38.836695Z",
     "shell.execute_reply": "2020-10-13T13:23:38.837145Z"
    }
   },
   "outputs": [
    {
     "name": "stderr",
     "output_type": "stream",
     "text": [
      "/Users/bfdestombe/anaconda3/envs/dts/lib/python3.7/typing.py:847: FutureWarning: xarray subclass DataStore should explicitly define __slots__\n",
      "  super().__init_subclass__(*args, **kwargs)\n"
     ]
    }
   ],
   "source": [
    "import os\n",
    "import glob\n",
    "\n",
    "from dtscalibration import read_silixa_files"
   ]
  },
  {
   "cell_type": "markdown",
   "metadata": {},
   "source": [
    "The example data files are located in `./python-dts-calibration/tests/data`."
   ]
  },
  {
   "cell_type": "code",
   "execution_count": 2,
   "metadata": {
    "execution": {
     "iopub.execute_input": "2020-10-13T13:23:38.841559Z",
     "iopub.status.busy": "2020-10-13T13:23:38.840864Z",
     "iopub.status.idle": "2020-10-13T13:23:38.843138Z",
     "shell.execute_reply": "2020-10-13T13:23:38.843576Z"
    }
   },
   "outputs": [
    {
     "name": "stdout",
     "output_type": "stream",
     "text": [
      "../../tests/data/double_ended2\n"
     ]
    }
   ],
   "source": [
    "filepath = os.path.join('..', '..', 'tests', 'data', 'double_ended2')\n",
    "print(filepath)"
   ]
  },
  {
   "cell_type": "code",
   "execution_count": 3,
   "metadata": {
    "execution": {
     "iopub.execute_input": "2020-10-13T13:23:38.847837Z",
     "iopub.status.busy": "2020-10-13T13:23:38.846939Z",
     "iopub.status.idle": "2020-10-13T13:23:38.850495Z",
     "shell.execute_reply": "2020-10-13T13:23:38.850022Z"
    }
   },
   "outputs": [
    {
     "name": "stdout",
     "output_type": "stream",
     "text": [
      "channel 1_20180328014052498.xml\n",
      "channel 1_20180328014057119.xml\n",
      "channel 1_20180328014101652.xml\n",
      "channel 1_20180328014106243.xml\n",
      "channel 1_20180328014110917.xml\n",
      "channel 1_20180328014115480.xml\n"
     ]
    }
   ],
   "source": [
    "# Bonus: Just to show which files are in the folder\n",
    "filepathlist = sorted(glob.glob(os.path.join(filepath, '*.xml')))\n",
    "filenamelist = [os.path.basename(path) for path in filepathlist]\n",
    "\n",
    "for fn in filenamelist:\n",
    "    print(fn)"
   ]
  },
  {
   "cell_type": "markdown",
   "metadata": {},
   "source": [
    "Define in which timezone the measurements are taken. In this case it is the timezone of the Silixa Ultima computer was set to 'Europe/Amsterdam'. The default timezone of netCDF files is `UTC`. All the steps after loading the raw files are performed in this timezone. Please see www..com for a full list of supported timezones. We also explicitely define the file extension (`.xml`) because the folder is polluted with files other than measurement files."
   ]
  },
  {
   "cell_type": "code",
   "execution_count": 4,
   "metadata": {
    "execution": {
     "iopub.execute_input": "2020-10-13T13:23:38.853979Z",
     "iopub.status.busy": "2020-10-13T13:23:38.853368Z",
     "iopub.status.idle": "2020-10-13T13:23:39.009765Z",
     "shell.execute_reply": "2020-10-13T13:23:39.010284Z"
    }
   },
   "outputs": [
    {
     "name": "stdout",
     "output_type": "stream",
     "text": [
      "6 files were found, each representing a single timestep\n",
      "6 recorded vars were found: LAF, ST, AST, REV-ST, REV-AST, TMP\n",
      "Recorded at 1693 points along the cable\n",
      "The measurement is double ended\n",
      "Reading the data from disk\n"
     ]
    }
   ],
   "source": [
    "ds = read_silixa_files(directory=filepath,\n",
    "                       timezone_netcdf='UTC',\n",
    "                       file_ext='*.xml')"
   ]
  },
  {
   "cell_type": "markdown",
   "metadata": {},
   "source": [
    "The object tries to gather as much metadata from the measurement files as possible (temporal and spatial coordinates, filenames, temperature probes measurements). All other configuration settings are loaded from the first files and stored as attributes of the `DataStore`."
   ]
  },
  {
   "cell_type": "code",
   "execution_count": 5,
   "metadata": {
    "execution": {
     "iopub.execute_input": "2020-10-13T13:23:39.033648Z",
     "iopub.status.busy": "2020-10-13T13:23:39.032906Z",
     "iopub.status.idle": "2020-10-13T13:23:39.035257Z",
     "shell.execute_reply": "2020-10-13T13:23:39.035698Z"
    }
   },
   "outputs": [
    {
     "name": "stdout",
     "output_type": "stream",
     "text": [
      "<dtscalibration.DataStore>\n",
      "Sections:                  ()\n",
      "Dimensions:                (time: 6, trans_att: 0, x: 1693)\n",
      "Coordinates:\n",
      "  * x                      (x) float64 -80.5 -80.38 -80.25 ... 134.3 134.4 134.5\n",
      "    filename               (time) <U31 'channel 1_20180328014052498.xml' ... ...\n",
      "    filename_tstamp        (time) int64 20180328014052498 ... 20180328014115480\n",
      "    timeFWstart            (time) datetime64[ns] 2018-03-28T00:40:52.097000 ....\n",
      "    timeFWend              (time) datetime64[ns] 2018-03-28T00:40:54.097000 ....\n",
      "    timeFW                 (time) datetime64[ns] 2018-03-28T00:40:53.097000 ....\n",
      "    timeBWstart            (time) datetime64[ns] 2018-03-28T00:40:54.097000 ....\n",
      "    timeBWend              (time) datetime64[ns] 2018-03-28T00:40:56.097000 ....\n",
      "    timeBW                 (time) datetime64[ns] 2018-03-28T00:40:55.097000 ....\n",
      "    timestart              (time) datetime64[ns] 2018-03-28T00:40:52.097000 ....\n",
      "    timeend                (time) datetime64[ns] 2018-03-28T00:40:56.097000 ....\n",
      "  * time                   (time) datetime64[ns] 2018-03-28T00:40:54.097000 ....\n",
      "    acquisitiontimeFW      (time) timedelta64[ns] 00:00:02 00:00:02 ... 00:00:02\n",
      "    acquisitiontimeBW      (time) timedelta64[ns] 00:00:02 00:00:02 ... 00:00:02\n",
      "  * trans_att              (trans_att) float64 \n",
      "Data variables:\n",
      "    st                     (x, time) float64 1.281 -0.5321 ... -43.44 -41.08\n",
      "    ast                    (x, time) float64 0.4917 1.243 ... -30.14 -32.09\n",
      "    rst                    (x, time) float64 0.4086 -0.568 ... 4.822e+03\n",
      "    rast                   (x, time) float64 2.569 -1.603 ... 4.224e+03\n",
      "    tmp                    (x, time) float64 196.1 639.1 218.7 ... 8.442 18.47\n",
      "    acquisitionTime        (time) float32 2.098 2.075 2.076 2.133 2.085 2.062\n",
      "    referenceTemperature   (time) float32 21.0536 21.054 ... 21.0531 21.057\n",
      "    probe1Temperature      (time) float32 4.36149 4.36025 ... 4.36021 4.36118\n",
      "    probe2Temperature      (time) float32 18.5792 18.5785 ... 18.5805 18.5723\n",
      "    referenceProbeVoltage  (time) float32 0.121704 0.121704 ... 0.121705\n",
      "    probe1Voltage          (time) float32 0.114 0.114 0.114 0.114 0.114 0.114\n",
      "    probe2Voltage          (time) float32 0.121 0.121 0.121 0.121 0.121 0.121\n",
      "    userAcquisitionTimeFW  (time) float32 2.0 2.0 2.0 2.0 2.0 2.0\n",
      "    userAcquisitionTimeBW  (time) float32 2.0 2.0 2.0 2.0 2.0 2.0\n",
      "Attributes:\n",
      "    uid:                                                                     ...\n",
      "    nameWell:                                                                ...\n",
      "    nameWellbore:                                                            ...\n",
      "    name:                                                                    ...\n",
      "    indexType:                                                               ...\n",
      "    startIndex:uom:                                                          ...\n",
      "    startIndex:#text:                                                        ...\n",
      "    endIndex:uom:                                                            ...\n",
      "    endIndex:#text:                                                          ...\n",
      "\n",
      ".. and many more attributes. See: ds.attrs\n"
     ]
    }
   ],
   "source": [
    "print(ds)"
   ]
  },
  {
   "cell_type": "code",
   "execution_count": 6,
   "metadata": {},
   "outputs": [],
   "source": []
  },
  {
   "cell_type": "code",
   "execution_count": 6,
   "metadata": {},
   "outputs": [],
   "source": []
  }
 ],
 "metadata": {
  "kernelspec": {
   "display_name": "Python 3",
   "language": "python",
   "name": "python3"
  },
  "language_info": {
   "codemirror_mode": {
    "name": "ipython",
    "version": 3
   },
   "file_extension": ".py",
   "mimetype": "text/x-python",
   "name": "python",
   "nbconvert_exporter": "python",
   "pygments_lexer": "ipython3",
   "version": "3.7.7"
  }
 },
 "nbformat": 4,
 "nbformat_minor": 2
}
