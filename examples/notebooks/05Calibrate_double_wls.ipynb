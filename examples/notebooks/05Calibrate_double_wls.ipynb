{
 "cells": [
  {
   "cell_type": "markdown",
   "metadata": {
    "collapsed": true
   },
   "source": [
    "# 5. Calibration of double ended measurement with WLS and confidence intervals"
   ]
  },
  {
   "cell_type": "markdown",
   "metadata": {},
   "source": [
    "A double ended calibration is performed with weighted least squares. Over all timesteps simultaneous. $\\gamma$ and $\\alpha$ remain constant, while $C$ varies over time. The weights are not considered equal here. The weights kwadratically decrease with the signal strength of the measured Stokes and anti-Stokes signals.\n",
    "\n",
    "The confidence intervals can be calculated as the weights are correctly defined."
   ]
  },
  {
   "cell_type": "code",
   "execution_count": null,
   "metadata": {},
   "outputs": [],
   "source": [
    "import os\n",
    "\n",
    "from dtscalibration import read_xml_dir\n",
    "# import matplotlib.pyplot as plt"
   ]
  },
  {
   "cell_type": "code",
   "execution_count": null,
   "metadata": {},
   "outputs": [],
   "source": [
    "try:\n",
    "    wd = os.path.dirname(os.path.realpath(__file__))\n",
    "except:\n",
    "    wd = os.getcwd()\n",
    "\n",
    "filepath = os.path.join(wd, '..', '..', 'tests', 'data', 'double_ended2')\n",
    "timezone_netcdf = 'UTC',\n",
    "timezone_ultima_xml = 'Europe/Amsterdam'\n",
    "file_ext = '*.xml'\n",
    "\n",
    "ds_ = read_xml_dir(filepath,\n",
    "                  timezone_netcdf=timezone_netcdf,\n",
    "                  timezone_ultima_xml=timezone_ultima_xml,\n",
    "                  file_ext=file_ext)\n",
    "\n",
    "ds = ds_.sel(x=slice(0, 100))  # only calibrate parts of the fiber\n",
    "sections = {\n",
    "    'probe1Temperature': [slice(7.5, 17.), slice(70., 80.)],  # cold bath\n",
    "    'probe2Temperature': [slice(24., 34.), slice(85., 95.)],  # warm bath\n",
    "    }\n",
    "ds.sections = sections"
   ]
  },
  {
   "cell_type": "code",
   "execution_count": null,
   "metadata": {},
   "outputs": [],
   "source": [
    "st_label = 'ST'\n",
    "ast_label = 'AST'\n",
    "rst_label = 'REV-ST'\n",
    "rast_label = 'REV-AST'"
   ]
  },
  {
   "cell_type": "markdown",
   "metadata": {},
   "source": [
    "First calculate the variance in the measured Stokes and anti-Stokes signals, in the forward and backward direction.\n",
    "\n",
    "The Stokes and anti-Stokes signals should follow a smooth decaying exponential. This function fits a decaying exponential to each reference section for each time step. The variance of the residuals between the measured Stokes and anti-Stokes signals and the fitted signals is used as an estimate of the variance in measured signals."
   ]
  },
  {
   "cell_type": "code",
   "execution_count": null,
   "metadata": {},
   "outputs": [],
   "source": [
    "st_var, resid = ds.variance_stokes(st_label=st_label, suppress_info=1)\n",
    "ast_var, _ = ds.variance_stokes(st_label=ast_label, suppress_info=1)\n",
    "rst_var, _ = ds.variance_stokes(st_label=rst_label, suppress_info=1)\n",
    "rast_var, _ = ds.variance_stokes(st_label=rast_label, suppress_info=1)"
   ]
  },
  {
   "cell_type": "markdown",
   "metadata": {},
   "source": [
    "Similar to the ols procedure, we make a single function call to calibrate the temperature. If the method is `wls` and confidence intervals are passed to `conf_ints`, confidence intervals calculated. As weigths are correctly passed to the least squares procedure, the covariance matrix can be used. This matrix holds the covariances between all the parameters. A large parameter set is generated from this matrix, assuming the parameter space is normally distributed with their mean at the best estimate of the least squares procedure.\n",
    "\n",
    "The large parameter set is used to calculate a large set of temperatures. By using `percentiles` or `quantile` the 95% confidence interval of the calibrated temperature between 2.5% and 97.5% are calculated.\n",
    "\n",
    "The confidence intervals differ per time step. If you would like to calculate confidence intervals of all time steps together you have the option `ci_avg_time_flag=True`. 'We can say with 95% confidence that the temperature remained between this line and this line during the entire measurement period'."
   ]
  },
  {
   "cell_type": "code",
   "execution_count": null,
   "metadata": {},
   "outputs": [],
   "source": [
    "ds.calibration_double_ended(sections=sections,\n",
    "                            st_label=st_label,\n",
    "                            ast_label=ast_label,\n",
    "                            rst_label=rst_label,\n",
    "                            rast_label=rast_label,\n",
    "                            st_var=st_var,\n",
    "                            ast_var=ast_var,\n",
    "                            rst_var=rst_var,\n",
    "                            rast_var=rast_var,\n",
    "                            method='wls',\n",
    "                            # conf_ints=[0.00135, 0.025, 0.15865, 0.5, 0.84135, 0.975, 0.99865],\n",
    "                            conf_ints=[0.025, 0.5, 0.975],\n",
    "                            ci_avg_time_flag=0,\n",
    "                            store_tempvar='_var',\n",
    "                            conf_ints_size=500,\n",
    "                            solver='stats')"
   ]
  },
  {
   "cell_type": "code",
   "execution_count": null,
   "metadata": {},
   "outputs": [],
   "source": [
    "# ds1 = ds.isel(time=0)  # take only the first timestep\n",
    "# ds1.TMPF.plot(linewidth=0.7)\n",
    "# ds1.TMPF_MC.isel(CI=0).plot(linewidth=0.7, label='CI: 2.5%')\n",
    "# ds1.TMPF_MC.isel(CI=1).plot(linewidth=0.7, label='CI: 97.5%')\n",
    "# plt.legend()\n",
    "# plt.show()"
   ]
  },
  {
   "cell_type": "markdown",
   "metadata": {},
   "source": [
    "The DataArrays `TMPF_MC` and `TMPB_MC` and the dimension `CI` are added. `MC` stands for monte carlo and the `CI` dimension holds the confidence interval 'coordinates'."
   ]
  },
  {
   "cell_type": "code",
   "execution_count": null,
   "metadata": {},
   "outputs": [],
   "source": [
    "ds.data_vars"
   ]
  },
  {
   "cell_type": "code",
   "execution_count": null,
   "metadata": {},
   "outputs": [],
   "source": []
  }
 ],
 "metadata": {
  "kernelspec": {
   "display_name": "Python 3",
   "language": "python",
   "name": "python3"
  },
  "language_info": {
   "codemirror_mode": {
    "name": "ipython",
    "version": 3
   },
   "file_extension": ".py",
   "mimetype": "text/x-python",
   "name": "python",
   "nbconvert_exporter": "python",
   "pygments_lexer": "ipython3",
   "version": "3.6.5"
  }
 },
 "nbformat": 4,
 "nbformat_minor": 1
}
