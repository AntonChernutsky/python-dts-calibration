{
 "cells": [
  {
   "cell_type": "markdown",
   "metadata": {},
   "source": [
    "We use data from different measurement campains from which we expect to have the same $\\gamma$. We calibrate them together, and therefore share the same $\\gamma$. If calibration was previously unsuccesful, due to an insufficient number of calibration baths, or a specific calibration bath could not be used asreference as it appeared to not have a uniform temperature, this might be the solution."
   ]
  },
  {
   "cell_type": "code",
   "execution_count": 1,
   "metadata": {},
   "outputs": [],
   "source": [
    "import os\n",
    "\n",
    "from dtscalibration import read_silixa_files\n",
    "from dtscalibration.calibrate import calibration_multiple_fix_gamma\n",
    "from matplotlib import pyplot as plt\n",
    "import time\n",
    "\n",
    "%matplotlib inline"
   ]
  },
  {
   "cell_type": "markdown",
   "metadata": {},
   "source": [
    "## Load the data from the first measurement campain\n",
    "A double-ended setup"
   ]
  },
  {
   "cell_type": "code",
   "execution_count": 2,
   "metadata": {},
   "outputs": [
    {
     "name": "stdout",
     "output_type": "stream",
     "text": [
      "6 files were found, each representing a single timestep\n",
      "6 recorded vars were found: LAF, ST, AST, REV-ST, REV-AST, TMP\n",
      "Recorded at 1693 points along the cable\n",
      "The measurement is double ended\n"
     ]
    }
   ],
   "source": [
    "try:\n",
    "    wd = os.path.dirname(os.path.realpath(__file__))\n",
    "except:\n",
    "    wd = os.getcwd()\n",
    "\n",
    "filepath = os.path.join(wd, '..', '..', 'tests', 'data', 'double_ended2')\n",
    "timezone_netcdf = 'UTC'\n",
    "timezone_ultima_xml = 'Europe/Amsterdam'\n",
    "file_ext = '*.xml'\n",
    "\n",
    "ds1 = read_silixa_files(\n",
    "    directory=filepath,\n",
    "    timezone_netcdf=timezone_netcdf,\n",
    "    timezone_ultima_xml=timezone_ultima_xml,\n",
    "    file_ext=file_ext).sel(x=slice(-24., 123.))\n",
    "\n",
    "st_label = 'ST'\n",
    "ast_label = 'AST'\n",
    "rst_label = 'REV-ST'\n",
    "rast_label = 'REV-AST'\n",
    "\n",
    "sections = {\n",
    "    'probe1Temperature': [slice(7.5, 17.), slice(70., 80.)],  # cold bath\n",
    "    'probe2Temperature': [slice(24., 34.), slice(85., 95.)],  # warm bath\n",
    "    }\n",
    "ds1.sections = sections\n",
    "\n",
    "st_var, resid_st = ds1.variance_stokes(st_label=st_label, suppress_info=1)\n",
    "ast_var, resid_ast = ds1.variance_stokes(st_label=ast_label, suppress_info=1)\n",
    "rst_var, resid_rst = ds1.variance_stokes(st_label=rst_label, suppress_info=1)\n",
    "rast_var, resid_rast = ds1.variance_stokes(st_label=rast_label, suppress_info=1)"
   ]
  },
  {
   "cell_type": "markdown",
   "metadata": {},
   "source": [
    "## Load data from the second measurement campain\n",
    "Single-ended setup"
   ]
  },
  {
   "cell_type": "code",
   "execution_count": 3,
   "metadata": {},
   "outputs": [
    {
     "name": "stdout",
     "output_type": "stream",
     "text": [
      "6 files were found, each representing a single timestep\n",
      "6 recorded vars were found: LAF, ST, AST, REV-ST, REV-AST, TMP\n",
      "Recorded at 1693 points along the cable\n",
      "The measurement is double ended\n"
     ]
    }
   ],
   "source": [
    "# Happens to be the exact same files..\n",
    "ds2 = read_silixa_files(\n",
    "    directory=filepath,\n",
    "    timezone_netcdf=timezone_netcdf,\n",
    "    timezone_ultima_xml=timezone_ultima_xml,\n",
    "    file_ext=file_ext).sel(x=slice(-24., 123.))\n",
    "section_ds2 = sections.copy()\n",
    "ds2.sections = section_ds2"
   ]
  },
  {
   "cell_type": "markdown",
   "metadata": {},
   "source": [
    "## Configure calibration setting first measurement campain\n",
    "A double-ended setup.\n",
    "\n",
    "See available options: dtscalibration.datastore.calibration_double_ended . Only weighted least squares is supported (`method == 'wls'`), the solver should be sparse (`solver == 'sparse'`), and calculation of the confidence interval should be called in a later stage (`conf_ints == None`)."
   ]
  },
  {
   "cell_type": "code",
   "execution_count": 4,
   "metadata": {},
   "outputs": [],
   "source": [
    "ds1_kwargs = dict(\n",
    "    sections=ds1.sections,\n",
    "    st_label=st_label,\n",
    "    ast_label=ast_label,\n",
    "    rst_label=rst_label,\n",
    "    rast_label=rast_label,\n",
    "    st_var=st_var,\n",
    "    ast_var=ast_var,\n",
    "    rst_var=rst_var,\n",
    "    rast_var=rast_var,\n",
    "    store_c='c',\n",
    "    store_gamma='gamma',\n",
    "    store_alphaint='alphaint',\n",
    "    store_alpha='alpha',\n",
    "    store_tmpf='TMPF',\n",
    "    store_tmpb='TMPB',\n",
    "    store_p_cov='p_cov',\n",
    "    store_p_sol='p_val',\n",
    "    variance_suffix='_var',\n",
    "    method='wls',\n",
    "    store_tempvar=None,\n",
    "    conf_ints=None,\n",
    "    conf_ints_size=None,\n",
    "    ci_avg_time_flag=False,\n",
    "    solver='sparse',\n",
    "    da_random_state=None,\n",
    "    dtype=None)"
   ]
  },
  {
   "cell_type": "markdown",
   "metadata": {},
   "source": [
    "## Configure calibration setting second measurement campain\n",
    "A single-ended setup.\n",
    "\n",
    "See available options: dtscalibration.datastore.calibration_single_ended . Only weighted least squares is supported (`method == 'wls'`), the solver should be sparse (`solver == 'sparse'`), and calculation of the confidence interval should be called in a later stage (`conf_ints == None`)."
   ]
  },
  {
   "cell_type": "code",
   "execution_count": 5,
   "metadata": {},
   "outputs": [],
   "source": [
    "ds2_kwargs = dict(\n",
    "    sections=ds2.sections,\n",
    "    st_label=st_label,\n",
    "    ast_label=ast_label,\n",
    "    st_var=st_var,\n",
    "    ast_var=ast_var,\n",
    "    store_c='c',\n",
    "    store_gamma='gamma',\n",
    "    store_dalpha='dalpha',\n",
    "    store_alpha='alpha',\n",
    "    store_tmpf='TMPF',\n",
    "    store_p_cov='p_cov',\n",
    "    store_p_sol='p_val',\n",
    "    variance_suffix='_var',\n",
    "    method='wls',\n",
    "    store_tempvar=None,\n",
    "    conf_ints=None,\n",
    "    conf_ints_size=None,\n",
    "    ci_avg_time_flag=False,\n",
    "    solver='sparse',\n",
    "    da_random_state=None,\n",
    "    dtype=None)"
   ]
  },
  {
   "cell_type": "markdown",
   "metadata": {},
   "source": [
    "## Perform the actual calibration\n",
    "\n",
    "`ds_input` is a list that contains a tuple for each measurement campain. Each tuple contains three items. The first is the DataStore obj with all the measured Stokes, second, a string that can either be `'single'` or `'double'`, third, the dictionary with calibration options.\n",
    "\n",
    "The results are saved inplace, meaning that `ds1` and `ds2` are updated with the calibrated temperature."
   ]
  },
  {
   "cell_type": "code",
   "execution_count": 6,
   "metadata": {},
   "outputs": [],
   "source": [
    "# perform a calibration of multiple campains\n",
    "ds_input = [\n",
    "    (ds1, 'double', ds1_kwargs),\n",
    "    (ds2, 'single', ds2_kwargs)\n",
    "    ]\n",
    "\n",
    "calibration_multiple_fix_gamma(ds_input)"
   ]
  },
  {
   "cell_type": "markdown",
   "metadata": {},
   "source": [
    "## Result is stored in the DataStore objects\n",
    "We can check the gamma is the same for both results"
   ]
  },
  {
   "cell_type": "code",
   "execution_count": 7,
   "metadata": {},
   "outputs": [
    {
     "data": {
      "text/plain": [
       "(<xarray.DataArray 'gamma' ()>\n",
       " array(482.51004), <xarray.DataArray 'gamma' ()>\n",
       " array(482.51004))"
      ]
     },
     "execution_count": 7,
     "metadata": {},
     "output_type": "execute_result"
    }
   ],
   "source": [
    "ds1.gamma, ds2.gamma"
   ]
  },
  {
   "cell_type": "markdown",
   "metadata": {},
   "source": [
    "## Now we can compare single ended to double ended"
   ]
  },
  {
   "cell_type": "code",
   "execution_count": 8,
   "metadata": {},
   "outputs": [
    {
     "data": {
      "text/plain": [
       "[<matplotlib.lines.Line2D at 0x119cfbc50>]"
      ]
     },
     "execution_count": 8,
     "metadata": {},
     "output_type": "execute_result"
    },
    {
     "data": {
      "image/png": "[encoded data removed]",
      "text/plain": [
       "<Figure size 432x288 with 1 Axes>"
      ]
     },
     "metadata": {
      "needs_background": "light"
     },
     "output_type": "display_data"
    }
   ],
   "source": [
    "ds1.isel(time=0).TMPF.plot(linewidth=0.8)  # double ended\n",
    "ds2.isel(time=0).TMPF.plot(linewidth=0.8)  # single ended"
   ]
  },
  {
   "cell_type": "markdown",
   "metadata": {},
   "source": [
    "We can see the temperature at the internal reference sections to be tilted. Apparently a linearized differential attenuation (single ended setups) is not ideal when you'd want to use the internal reference temperature for calibration."
   ]
  },
  {
   "cell_type": "code",
   "execution_count": 9,
   "metadata": {},
   "outputs": [],
   "source": [
    "# ds1.alpha.plot()\n",
    "# ds2.alpha.plot()"
   ]
  }
 ],
 "metadata": {
  "kernelspec": {
   "display_name": "Python 3",
   "language": "python",
   "name": "python3"
  },
  "language_info": {
   "codemirror_mode": {
    "name": "ipython",
    "version": 3
   },
   "file_extension": ".py",
   "mimetype": "text/x-python",
   "name": "python",
   "nbconvert_exporter": "python",
   "pygments_lexer": "ipython3",
   "version": "3.6.6"
  }
 },
 "nbformat": 4,
 "nbformat_minor": 2
}
