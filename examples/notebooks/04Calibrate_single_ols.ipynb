{
 "cells": [
  {
   "cell_type": "markdown",
   "metadata": {
    "collapsed": true
   },
   "source": [
    "# 4. Calibration of double ended measurement with OLS"
   ]
  },
  {
   "cell_type": "markdown",
   "metadata": {},
   "source": [
    "A double ended calibration is performed with ordinary least squares. Over all timesteps simultaneous. $\\gamma$ and $\\alpha$ remain constant, while $C$ varies over time. The weights are considered equal here and no variance is calculated."
   ]
  },
  {
   "cell_type": "code",
   "execution_count": 1,
   "metadata": {},
   "outputs": [],
   "source": [
    "import os\n",
    "\n",
    "from dtscalibration import read_xml_dir"
   ]
  },
  {
   "cell_type": "code",
   "execution_count": 2,
   "metadata": {},
   "outputs": [
    {
     "name": "stdout",
     "output_type": "stream",
     "text": [
      "3 files were found, each representing a single timestep\n",
      "4 recorded vars were found: LAF, ST, AST, TMP\n",
      "Recorded at 1461 points along the cable\n",
      "Dask: Setting up handle for delayed readout. 1 out of 3\n",
      "Dask: Setting up handle for delayed readout. 3 out of 3\n",
      "Directly reading time and extra info from xml files. 1 out of 3\n",
      "Directly reading time and extra info from xml files. 3 out of 3\n"
     ]
    }
   ],
   "source": [
    "try:\n",
    "    wd = os.path.dirname(os.path.realpath(__file__))\n",
    "except:\n",
    "    wd = os.getcwd()\n",
    "\n",
    "filepath = os.path.join(wd, '..', '..', 'tests', 'data', 'single_ended')\n",
    "timezone_netcdf = 'UTC',\n",
    "timezone_ultima_xml = 'Europe/Amsterdam'\n",
    "file_ext = '*.xml'\n",
    "\n",
    "ds = read_xml_dir(filepath,\n",
    "                  timezone_netcdf=timezone_netcdf,\n",
    "                  timezone_ultima_xml=timezone_ultima_xml,\n",
    "                  file_ext=file_ext)\n",
    "\n",
    "ds100 = ds.sel(x=slice(-30, 101))  # only calibrate parts of the fiber\n",
    "sections = {\n",
    "            'probe1Temperature':    [slice(20, 25.5)],  # warm bath\n",
    "            'probe2Temperature':    [slice(5.5, 15.5)],  # cold bath\n",
    "#             'referenceTemperature': [slice(-24., -4)]  # The internal coil is not so uniform\n",
    "            }"
   ]
  },
  {
   "cell_type": "code",
   "execution_count": 3,
   "metadata": {},
   "outputs": [
    {
     "name": "stdout",
     "output_type": "stream",
     "text": [
      "\n",
      "\n",
      "        Parameters\n",
      "        ----------\n",
      "        sections : dict, optional\n",
      "        st_label : str\n",
      "            Label of the forward stokes measurement\n",
      "        ast_label : str\n",
      "            Label of the anti-Stoke measurement\n",
      "        st_var : float, optional\n",
      "            The variance of the measurement noise of the Stokes signals in the forward\n",
      "            direction Required if method is wls.\n",
      "        ast_var : float, optional\n",
      "            The variance of the measurement noise of the anti-Stokes signals in the forward\n",
      "            direction. Required if method is wls.\n",
      "        store_c : str\n",
      "            Label of where to store C\n",
      "        store_gamma : str\n",
      "            Label of where to store gamma\n",
      "        store_dalpha : str\n",
      "            Label of where to store dalpha; the spatial derivative  of alpha.\n",
      "        store_alpha : str\n",
      "            Label of where to store alpha; The integrated differential attenuation.\n",
      "            alpha(x=0) = 0\n",
      "        store_tmpf : str\n",
      "            Label of where to store the calibrated temperature of the forward direction\n",
      "        variance_suffix : str, optional\n",
      "            String appended for storing the variance. Only used when method is wls.\n",
      "        method : {'ols', 'wls'}\n",
      "            Use 'ols' for ordinary least squares and 'wls' for weighted least squares\n",
      "        store_tempvar : str\n",
      "            If defined, the variance of the error is calculated\n",
      "        conf_ints : iterable object of float, optional\n",
      "            A list with the confidence boundaries that are calculated. E.g., to cal\n",
      "        conf_ints_size : int, optional\n",
      "            Size of the monte carlo parameter set used to calculate the confidence interval\n",
      "        ci_avg_time_flag : bool, optional\n",
      "            The confidence intervals differ per time step. If you would like to calculate confidence\n",
      "            intervals of all time steps together. ‘We can say with 95% confidence that the\n",
      "            temperature remained between this line and this line during the entire measurement\n",
      "            period’.\n",
      "        da_random_state : dask.array.random.RandomState\n",
      "            The seed for dask. Makes random not so random. To produce reproducable results for\n",
      "            testing environments.\n",
      "        solver : {'sparse', 'stats'}\n",
      "            Either use the homemade weighted sparse solver or the weighted dense matrix solver of\n",
      "            statsmodels\n",
      "\n",
      "        Returns\n",
      "        -------\n",
      "\n",
      "        \n"
     ]
    }
   ],
   "source": [
    "print(ds100.calibration_single_ended.__doc__)"
   ]
  },
  {
   "cell_type": "code",
   "execution_count": 4,
   "metadata": {},
   "outputs": [
    {
     "name": "stdout",
     "output_type": "stream",
     "text": [
      " \n",
      "LSQR            Least-squares solution of  Ax = b\n",
      "The matrix A has      366 rows  and        5 cols\n",
      "damp = 0.00000000000000e+00   calc_var =        1\n",
      "atol = 1.00e-08                 conlim = 1.00e+08\n",
      "btol = 1.00e-08               iter_lim =       10\n",
      " \n",
      "   Itn      x[0]       r1norm     r2norm   Compatible    LS      Norm A   Cond A\n",
      "     0  4.82000e+02   2.948e+01  2.948e+01    1.0e+00  1.0e+01\n",
      "     1  4.82000e+02   6.004e-01  6.004e-01    1.4e-01  1.4e-02   3.1e+02  1.0e+00\n",
      "     2  4.81999e+02   1.868e-02  1.868e-02    4.4e-03  3.4e-02   3.1e+02  7.1e+01\n",
      "     3  4.81999e+02   6.248e-03  6.248e-03    1.5e-03  5.1e-06   3.1e+02  7.6e+01\n",
      "     4  4.81999e+02   6.248e-03  6.248e-03    1.5e-03  1.2e-08   4.4e+02  1.1e+02\n",
      "     5  4.81877e+02   6.247e-03  6.247e-03    1.5e-03  2.2e-08   4.4e+02  8.6e+05\n",
      "     6  4.81877e+02   6.247e-03  6.247e-03    1.5e-03  3.0e-07   4.4e+02  8.6e+05\n",
      "     7  4.81877e+02   6.247e-03  6.247e-03    1.5e-03  1.9e-08   5.3e+02  1.1e+06\n",
      "     8  4.81877e+02   6.247e-03  6.247e-03    1.5e-03  6.6e-18   5.3e+02  1.1e+06\n",
      " \n",
      "LSQR finished\n",
      "The least-squares solution is good enough, given atol     \n",
      " \n",
      "istop =       2   r1norm = 6.2e-03   anorm = 5.3e+02   arnorm = 2.2e-17\n",
      "itn   =       8   r2norm = 6.2e-03   acond = 1.1e+06   xnorm  = 2.1e-01\n",
      " \n"
     ]
    }
   ],
   "source": [
    "st_label = 'ST'\n",
    "ast_label = 'AST'\n",
    "ds100.calibration_single_ended(sections=sections,\n",
    "                               st_label=st_label,\n",
    "                               ast_label=ast_label,\n",
    "                               method='ols')"
   ]
  },
  {
   "cell_type": "markdown",
   "metadata": {},
   "source": [
    "Lets compare our calibrated values with the device calibration"
   ]
  },
  {
   "cell_type": "code",
   "execution_count": 5,
   "metadata": {},
   "outputs": [],
   "source": [
    "try:\n",
    "    import matplotlib.pyplot as plt\n",
    "    \n",
    "    ds1 = ds100.isel(time=0)  # take only the first timestep\n",
    "\n",
    "    ds1.TMPF.plot(linewidth=1, label='User calibrated')  # plot the temperature calibrated by us\n",
    "    ds1.TMP.plot(linewidth=1, label='Device calibrated')  # plot the temperature calibrated by the device\n",
    "    plt.title('Temperature at the first time step')\n",
    "    plt.legend()\n",
    "    \n",
    "except:\n",
    "    pass\n"
   ]
  },
  {
   "cell_type": "code",
   "execution_count": 6,
   "metadata": {},
   "outputs": [],
   "source": []
  }
 ],
 "metadata": {
  "kernelspec": {
   "display_name": "Python 3",
   "language": "python",
   "name": "python3"
  },
  "language_info": {
   "codemirror_mode": {
    "name": "ipython",
    "version": 3
   },
   "file_extension": ".py",
   "mimetype": "text/x-python",
   "name": "python",
   "nbconvert_exporter": "python",
   "pygments_lexer": "ipython3",
   "version": "3.6.5"
  }
 },
 "nbformat": 4,
 "nbformat_minor": 1
}
