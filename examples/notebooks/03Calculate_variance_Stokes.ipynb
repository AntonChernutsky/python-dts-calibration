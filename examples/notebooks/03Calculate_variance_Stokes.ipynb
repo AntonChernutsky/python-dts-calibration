{
 "cells": [
  {
   "cell_type": "markdown",
   "metadata": {
    "collapsed": true
   },
   "source": [
    "# 3. Calculate variance of Stokes and anti-Stokes measurements"
   ]
  },
  {
   "cell_type": "code",
   "execution_count": 1,
   "metadata": {},
   "outputs": [],
   "source": [
    "import os\n",
    "\n",
    "from dtscalibration import read_xml_dir\n",
    "from matplotlib import pyplot as plt\n",
    "\n",
    "%matplotlib inline"
   ]
  },
  {
   "cell_type": "code",
   "execution_count": 2,
   "metadata": {},
   "outputs": [
    {
     "name": "stdout",
     "output_type": "stream",
     "text": [
      "6 files were found, each representing a single timestep\n",
      "6 recorded vars were found: LAF, ST, AST, REV-ST, REV-AST, TMP\n",
      "Recorded at 1693 points along the cable\n",
      "Dask: Setting up handle for delayed readout. 1 out of 6\n",
      "Dask: Setting up handle for delayed readout. 6 out of 6\n",
      "Directly reading time and extra info from xml files. 1 out of 6\n",
      "Directly reading time and extra info from xml files. 6 out of 6\n"
     ]
    }
   ],
   "source": [
    "try:\n",
    "    wd = os.path.dirname(os.path.realpath(__file__))\n",
    "except:\n",
    "    wd = os.getcwd()\n",
    "\n",
    "filepath = os.path.join(wd, '..', '..', 'tests', 'data', 'double_ended2')\n",
    "timezone_netcdf = 'UTC',\n",
    "timezone_ultima_xml = 'Europe/Amsterdam'\n",
    "file_ext = '*.xml'\n",
    "\n",
    "ds = read_xml_dir(filepath,\n",
    "                  timezone_netcdf=timezone_netcdf,\n",
    "                  timezone_ultima_xml=timezone_ultima_xml,\n",
    "                  file_ext=file_ext)\n",
    "sections = {\n",
    "    'probe1Temperature': [slice(7.5, 17.), slice(70., 80.)],  # cold bath\n",
    "    'probe2Temperature': [slice(24., 34.), slice(85., 95.)],  # warm bath\n",
    "    }"
   ]
  },
  {
   "cell_type": "code",
   "execution_count": 3,
   "metadata": {},
   "outputs": [
    {
     "name": "stdout",
     "output_type": "stream",
     "text": [
      "\n",
      "        Calculates the variance between the measurements and a best fit exponential at each\n",
      "        reference section. This fits a two-parameter exponential to the stokes measurements. The\n",
      "        temperature is constant and there are no splices/sharp bends in each reference section.\n",
      "        Therefore all signal decrease is due to differential attenuation, which is the same for\n",
      "        each reference section. The scale of the exponential does differ per reference section.\n",
      "\n",
      "        Assumptions: 1) the temperature is the same along a reference section. 2) no sharp bends\n",
      "        and splices in the reference sections. 3) Same type of optical cable in each reference\n",
      "        section.\n",
      "\n",
      "        Idea from discussion at page 127 in Richter, P. H. (1995). Estimating errors in\n",
      "        least-squares fitting. For weights used error propagation:\n",
      "        w^2 = 1/sigma(lny)^2 = y^2/sigma(y)^2 = y^2\n",
      "\n",
      "        Parameters\n",
      "        ----------\n",
      "        use_statsmodels\n",
      "        suppress_info\n",
      "        st_label : str\n",
      "            label of the Stokes, anti-Stokes measurement.\n",
      "            E.g., ST, AST, REV-ST, REV-AST\n",
      "        sections : dict, optional\n",
      "            Define sections. See documentation\n",
      "\n",
      "        Returns\n",
      "        -------\n",
      "        I_var : float\n",
      "            Variance of the residuals between measured and best fit\n",
      "        resid : array_like\n",
      "            Residuals between measured and best fit\n",
      "        \n"
     ]
    }
   ],
   "source": [
    "print(ds.variance_stokes.__doc__)"
   ]
  },
  {
   "cell_type": "code",
   "execution_count": 4,
   "metadata": {},
   "outputs": [
    {
     "name": "stdout",
     "output_type": "stream",
     "text": [
      "The variance of the Stokes signal along the reference sections is approximately 40.15998656786007\n"
     ]
    }
   ],
   "source": [
    "I_var, residuals = ds.variance_stokes(st_label='ST', \n",
    "                                      sections=sections, \n",
    "                                      use_statsmodels=False)\n",
    "print(\"The variance of the Stokes signal along the reference sections \"\n",
    "      \"is approximately {}\".format(I_var))"
   ]
  },
  {
   "cell_type": "code",
   "execution_count": 5,
   "metadata": {},
   "outputs": [
    {
     "data": {
      "text/plain": [
       "<matplotlib.collections.QuadMesh at 0x11f3ada90>"
      ]
     },
     "execution_count": 5,
     "metadata": {},
     "output_type": "execute_result"
    },
    {
     "data": {
      "image/png": "[encoded data removed]",
      "text/plain": [
       "<Figure size 864x576 with 2 Axes>"
      ]
     },
     "metadata": {
      "needs_background": "light"
     },
     "output_type": "display_data"
    }
   ],
   "source": [
    "residuals.plot(figsize=(12, 8))"
   ]
  },
  {
   "cell_type": "markdown",
   "metadata": {},
   "source": [
    "The residuals should be normally distributed and independent from previous time steps and other points along the cable. If you observe patterns in the residuals plot (above), it might be caused by:\n",
    "- The temperature in the calibration bath is not uniform\n",
    "- Attenuation caused by coils/sharp bends in cable\n",
    "- Attenuation caused by a splice"
   ]
  },
  {
   "cell_type": "code",
   "execution_count": 6,
   "metadata": {},
   "outputs": [
    {
     "data": {
      "image/png": "[encoded data removed]",
      "text/plain": [
       "<Figure size 432x288 with 1 Axes>"
      ]
     },
     "metadata": {
      "needs_background": "light"
     },
     "output_type": "display_data"
    }
   ],
   "source": [
    "residuals.plot.hist(bins=50);"
   ]
  },
  {
   "cell_type": "code",
   "execution_count": 7,
   "metadata": {},
   "outputs": [],
   "source": []
  }
 ],
 "metadata": {
  "kernelspec": {
   "display_name": "Python 3",
   "language": "python",
   "name": "python3"
  },
  "language_info": {
   "codemirror_mode": {
    "name": "ipython",
    "version": 3
   },
   "file_extension": ".py",
   "mimetype": "text/x-python",
   "name": "python",
   "nbconvert_exporter": "python",
   "pygments_lexer": "ipython3",
   "version": "3.6.5"
  }
 },
 "nbformat": 4,
 "nbformat_minor": 1
}
