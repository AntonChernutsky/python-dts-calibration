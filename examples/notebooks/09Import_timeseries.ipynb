{
 "cells": [
  {
   "cell_type": "markdown",
   "metadata": {},
   "source": [
    "# 9. Import a time series"
   ]
  },
  {
   "cell_type": "markdown",
   "metadata": {},
   "source": [
    "In this tutorial we are adding a timeseries to the DataStore object. This might be useful if the temperature in one of the calibration baths was measured with an external device. It requires three steps to add the measurement files to the DataStore object:\n",
    "1. Load the measurement files (e.g., csv, txt) with pandas into a pandas.Series object\n",
    "2. Add the pandas.Series object to the DataStore\n",
    "3. Align the time to that of the DTS measurement (required for calibration)"
   ]
  },
  {
   "cell_type": "code",
   "execution_count": 1,
   "metadata": {},
   "outputs": [],
   "source": [
    "import pandas as pd\n",
    "import os\n",
    "\n",
    "from dtscalibration import read_silixa_files"
   ]
  },
  {
   "cell_type": "markdown",
   "metadata": {},
   "source": [
    "## Step 1: load the measurement files"
   ]
  },
  {
   "cell_type": "code",
   "execution_count": 2,
   "metadata": {},
   "outputs": [
    {
     "name": "stdout",
     "output_type": "stream",
     "text": [
      "..\\..\\tests\\data\\external_temperature_timeseries\\Loodswaternet2018-03-28 02h.csv \n",
      "\n",
      "\"time\",\"Pt100 2\"\n",
      " 2018-03-28 02:00:05, 12.748\n",
      " 2018-03-28 02:00:10, 12.747\n",
      " 2018-03-28 02:00:15, 12.746\n",
      " 2018-03-28 02:00:20, 12.747\n",
      "\n"
     ]
    }
   ],
   "source": [
    "filepath = os.path.join('..', '..', 'tests', 'data', \n",
    "                        'external_temperature_timeseries', \n",
    "                        'Loodswaternet2018-03-28 02h.csv')\n",
    "\n",
    "# Bonus:\n",
    "print(filepath, '\\n')\n",
    "with open(filepath, 'r') as f:\n",
    "    head = [next(f) for _ in range(5)]\n",
    "print(' '.join(head))"
   ]
  },
  {
   "cell_type": "code",
   "execution_count": 3,
   "metadata": {},
   "outputs": [],
   "source": [
    "ts = pd.read_csv(filepath, sep=',', index_col=0, parse_dates=True, \n",
    "                 squeeze=True, engine='python')  # the latter 2 kwargs are to ensure a pd.Series is returned\n",
    "ts = ts.tz_localize('Europe/Amsterdam')  # set the timezone"
   ]
  },
  {
   "cell_type": "code",
   "execution_count": 4,
   "metadata": {},
   "outputs": [
    {
     "data": {
      "text/plain": [
       "time\n",
       "2018-03-28 02:00:05+02:00    12.748\n",
       "2018-03-28 02:00:10+02:00    12.747\n",
       "2018-03-28 02:00:15+02:00    12.746\n",
       "2018-03-28 02:00:20+02:00    12.747\n",
       "2018-03-28 02:00:26+02:00    12.747\n",
       "Name: Pt100 2, dtype: float64"
      ]
     },
     "execution_count": 4,
     "metadata": {},
     "output_type": "execute_result"
    }
   ],
   "source": [
    "ts.head()  # Double check the timezone"
   ]
  },
  {
   "cell_type": "markdown",
   "metadata": {},
   "source": [
    "Now we quickly create a DataStore from xml-files with Stokes measurements to add the external timeseries to"
   ]
  },
  {
   "cell_type": "code",
   "execution_count": 5,
   "metadata": {},
   "outputs": [
    {
     "name": "stdout",
     "output_type": "stream",
     "text": [
      "6 files were found, each representing a single timestep\n",
      "6 recorded vars were found: LAF, ST, AST, REV-ST, REV-AST, TMP\n",
      "Recorded at 1693 points along the cable\n",
      "The measurement is double ended\n",
      "Reading the data from disk\n"
     ]
    }
   ],
   "source": [
    "filepath_ds = os.path.join('..', '..', 'tests', 'data', 'double_ended2')\n",
    "ds = read_silixa_files(directory=filepath_ds,\n",
    "                       timezone_netcdf='UTC',\n",
    "                       file_ext='*.xml')"
   ]
  },
  {
   "cell_type": "markdown",
   "metadata": {},
   "source": [
    "## Step 2: Add the temperature measurements of the external probe to the DataStore.\n",
    "\n",
    "First add the coordinates"
   ]
  },
  {
   "cell_type": "code",
   "execution_count": 6,
   "metadata": {},
   "outputs": [],
   "source": [
    "ds.coords['time_external'] = ts.index.values"
   ]
  },
  {
   "cell_type": "markdown",
   "metadata": {},
   "source": [
    "Second we add the measured values"
   ]
  },
  {
   "cell_type": "code",
   "execution_count": 7,
   "metadata": {},
   "outputs": [],
   "source": [
    "ds['external_probe'] = (('time_external',), ts)"
   ]
  },
  {
   "cell_type": "markdown",
   "metadata": {},
   "source": [
    "## Step 3: Align the time of the external measurements to the Stokes measurement times\n",
    "We linearly interpolate the measurements of the external sensor to the times we have DTS measurements"
   ]
  },
  {
   "cell_type": "code",
   "execution_count": 8,
   "metadata": {},
   "outputs": [],
   "source": [
    "ds['external_probe_dts'] = ds['external_probe'].interp(time_external=ds.time)"
   ]
  },
  {
   "cell_type": "code",
   "execution_count": 9,
   "metadata": {
    "scrolled": true
   },
   "outputs": [
    {
     "name": "stdout",
     "output_type": "stream",
     "text": [
      "Data variables:\n",
      "    ST                     (x, time) float64 1.281 -0.5321 ... -43.44 -41.08\n",
      "    AST                    (x, time) float64 0.4917 1.243 ... -30.14 -32.09\n",
      "    REV-ST                 (x, time) float64 0.4086 -0.568 ... 4.822e+03\n",
      "    REV-AST                (x, time) float64 2.569 -1.603 ... 4.224e+03\n",
      "    TMP                    (x, time) float64 196.1 639.1 218.7 ... 8.442 18.47\n",
      "    acquisitionTime        (time) float32 2.098 2.075 2.076 2.133 2.085 2.062\n",
      "    referenceTemperature   (time) float32 21.0536 21.054 ... 21.0531 21.057\n",
      "    probe1Temperature      (time) float32 4.36149 4.36025 ... 4.36021 4.36118\n",
      "    probe2Temperature      (time) float32 18.5792 18.5785 ... 18.5805 18.5723\n",
      "    referenceProbeVoltage  (time) float32 0.121704 0.121704 ... 0.121705\n",
      "    probe1Voltage          (time) float32 0.114 0.114 0.114 0.114 0.114 0.114\n",
      "    probe2Voltage          (time) float32 0.121 0.121 0.121 0.121 0.121 0.121\n",
      "    userAcquisitionTimeFW  (time) float32 2.0 2.0 2.0 2.0 2.0 2.0\n",
      "    userAcquisitionTimeBW  (time) float32 2.0 2.0 2.0 2.0 2.0 2.0\n",
      "    external_probe         (time_external) float64 12.75 12.75 ... 12.76 12.76\n",
      "    external_probe_dts     (time) float64 12.75 12.75 12.75 12.75 12.75 12.75\n"
     ]
    }
   ],
   "source": [
    "print(ds.data_vars)"
   ]
  },
  {
   "cell_type": "markdown",
   "metadata": {},
   "source": [
    "Now we can use `external_probe_dts` when we define sections and use it for calibration"
   ]
  },
  {
   "cell_type": "code",
   "execution_count": 10,
   "metadata": {},
   "outputs": [],
   "source": []
  }
 ],
 "metadata": {
  "kernelspec": {
   "display_name": "Python 3",
   "language": "python",
   "name": "python3"
  },
  "language_info": {
   "codemirror_mode": {
    "name": "ipython",
    "version": 3
   },
   "file_extension": ".py",
   "mimetype": "text/x-python",
   "name": "python",
   "nbconvert_exporter": "python",
   "pygments_lexer": "ipython3",
   "version": "3.7.3"
  }
 },
 "nbformat": 4,
 "nbformat_minor": 2
}
