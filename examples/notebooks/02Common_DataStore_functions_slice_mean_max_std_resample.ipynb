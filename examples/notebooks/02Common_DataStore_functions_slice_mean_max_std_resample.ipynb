{
 "cells": [
  {
   "cell_type": "markdown",
   "metadata": {},
   "source": [
    "# 2. Common DataStore functions\n",
    "Examples of how to do some of the more commonly used functions:\n",
    "\n",
    "1. mean, min, max, std\n",
    "2. Selecting\n",
    "3. Selecting by index\n",
    "4. Downsample (time dimension)\n",
    "5. Upsample / Interpolation (length and time dimension)"
   ]
  },
  {
   "cell_type": "code",
   "execution_count": 1,
   "metadata": {},
   "outputs": [],
   "source": [
    "import os\n",
    "\n",
    "from dtscalibration import read_silixa_files"
   ]
  },
  {
   "cell_type": "markdown",
   "metadata": {},
   "source": [
    "First we load the raw measurements into a `DataStore` object, as we learned from the previous notebook."
   ]
  },
  {
   "cell_type": "code",
   "execution_count": 4,
   "metadata": {},
   "outputs": [
    {
     "name": "stdout",
     "output_type": "stream",
     "text": [
      "3 files were found, each representing a single timestep\n",
      "4 recorded vars were found: LAF, ST, AST, TMP\n",
      "Recorded at 1461 points along the cable\n",
      "The measurement is single ended\n"
     ]
    }
   ],
   "source": [
    "filepath = os.path.join('..', '..', 'tests', 'data', 'single_ended')\n",
    "\n",
    "ds = read_silixa_files(\n",
    "    directory=filepath,\n",
    "    timezone_netcdf='UTC',\n",
    "    timezone_input_files='Europe/Amsterdam',\n",
    "    file_ext='*.xml')"
   ]
  },
  {
   "cell_type": "markdown",
   "metadata": {},
   "source": [
    "## 0 Access the data\n",
    "The implemented read routines try to read as much data from the raw DTS files as possible. Usually they would have coordinates (time and space) and Stokes and anti Stokes measurements. We can access the data by key. It is presented as a DataArray. More examples are found at http://xarray.pydata.org/en/stable/indexing.html"
   ]
  },
  {
   "cell_type": "code",
   "execution_count": 5,
   "metadata": {},
   "outputs": [
    {
     "data": {
      "text/plain": [
       "<xarray.DataArray 'ST' (x: 1461, time: 3)>\n",
       "array([[-8.05791e-01,  4.28741e-01, -5.13021e-01],\n",
       "       [-4.58870e-01, -1.24484e-01,  9.68469e-03],\n",
       "       [ 4.89174e-01, -9.57734e-02,  5.62837e-02],\n",
       "       ...,\n",
       "       [ 4.68457e+01,  4.72201e+01,  4.79139e+01],\n",
       "       [ 3.76634e+01,  3.74649e+01,  3.83160e+01],\n",
       "       [ 2.79879e+01,  2.78331e+01,  2.88055e+01]])\n",
       "Coordinates:\n",
       "  * x                  (x) float64 -80.74 -80.62 -80.49 ... 104.6 104.7 104.8\n",
       "    filename           (time) <U31 'channel 2_20180504132202074.xml' ... 'channel 2_20180504132303723.xml'\n",
       "    filename_tstamp    (time) int64 20180504132202074 ... 20180504132303723\n",
       "    timestart          (time) datetime64[ns] 2018-05-04T12:22:02.710000 ... 2018-05-04T12:23:03.716000\n",
       "    timeend            (time) datetime64[ns] 2018-05-04T12:22:32.710000 ... 2018-05-04T12:23:33.716000\n",
       "  * time               (time) datetime64[ns] 2018-05-04T12:22:17.710000 ... 2018-05-04T12:23:18.716000\n",
       "    acquisitiontimeFW  (time) timedelta64[ns] 00:00:30 00:00:30 00:00:30\n",
       "Attributes:\n",
       "    name:         ST\n",
       "    description:  Stokes intensity\n",
       "    units:        -"
      ]
     },
     "execution_count": 5,
     "metadata": {},
     "output_type": "execute_result"
    }
   ],
   "source": [
    "ds['ST']  # is the data stored, presented as a DataArray"
   ]
  },
  {
   "cell_type": "code",
   "execution_count": 14,
   "metadata": {},
   "outputs": [
    {
     "data": {
      "image/png": "[encoded data removed]",
      "text/plain": [
       "<Figure size 864x576 with 2 Axes>"
      ]
     },
     "metadata": {
      "needs_background": "light"
     },
     "output_type": "display_data"
    }
   ],
   "source": [
    "ds['TMP'].plot(figsize=(12, 8));"
   ]
  },
  {
   "cell_type": "markdown",
   "metadata": {},
   "source": [
    "## 1 mean, min, max\n",
    "The first argument is the dimension. The function is taken along that dimension. `dim` can be any dimension (e.g., `time`, `x`). The returned `DataStore` does not contain that dimension anymore.\n",
    "\n",
    "Normally, you would like to keep the attributes (the informative texts from the loaded files), so set `keep_attrs` to `True`. They don't take any space compared to your Stokes data, so keep them.\n",
    "\n",
    "Note that also the sections are stored as attribute. If you delete the attributes, you would have to redefine the sections."
   ]
  },
  {
   "cell_type": "code",
   "execution_count": 5,
   "metadata": {},
   "outputs": [],
   "source": [
    "ds_min = ds.mean(dim='time', keep_attrs=True)  # take the minimum of all data variables (e.g., Stokes, Temperature) along the time dimension"
   ]
  },
  {
   "cell_type": "code",
   "execution_count": 6,
   "metadata": {},
   "outputs": [],
   "source": [
    "ds_max = ds.max(dim='x', keep_attrs=True)  # Take the maximum of all data variables (e.g., Stokes, Temperature) along the x dimension"
   ]
  },
  {
   "cell_type": "code",
   "execution_count": 7,
   "metadata": {},
   "outputs": [],
   "source": [
    "ds_std = ds.std(dim='time', keep_attrs=True)  # Calculate the standard deviation along the time dimension"
   ]
  },
  {
   "cell_type": "markdown",
   "metadata": {},
   "source": [
    "## 2 Selecting\n",
    "What if you would like to get the maximum temperature between $x >= 20$ m and $x < 35$ m over time? We first have to select a section along the cable."
   ]
  },
  {
   "cell_type": "code",
   "execution_count": 7,
   "metadata": {},
   "outputs": [],
   "source": [
    "section = slice(20., 35.)\n",
    "section_of_interest = ds.sel(x=section)"
   ]
  },
  {
   "cell_type": "code",
   "execution_count": 8,
   "metadata": {},
   "outputs": [],
   "source": [
    "section_of_interest_max = section_of_interest.max(dim='x')"
   ]
  },
  {
   "cell_type": "markdown",
   "metadata": {},
   "source": [
    "What if you would like to have the measurement at approximately $x=20$ m?"
   ]
  },
  {
   "cell_type": "code",
   "execution_count": 9,
   "metadata": {},
   "outputs": [],
   "source": [
    "point_of_interest = ds.sel(x=20., method='nearest')"
   ]
  },
  {
   "cell_type": "markdown",
   "metadata": {},
   "source": [
    "## 3 Selecting by index\n",
    "What if you would like to see what the values on the first timestep are? We can use isel (index select) "
   ]
  },
  {
   "cell_type": "code",
   "execution_count": 12,
   "metadata": {
    "scrolled": true
   },
   "outputs": [],
   "source": [
    "section_of_interest = ds.isel(time=slice(0, 2))  # The first two time steps"
   ]
  },
  {
   "cell_type": "code",
   "execution_count": 11,
   "metadata": {},
   "outputs": [],
   "source": [
    "section_of_interest = ds.isel(x=0)"
   ]
  },
  {
   "cell_type": "markdown",
   "metadata": {},
   "source": [
    "## 4 Downsample (time dimension)\n",
    "We currently have measurements at 3 time steps, with 30.001 seconds inbetween. For our next exercise we would like to down sample the measurements to 2 time steps with 47 seconds inbetween. The calculated variances are not valid anymore. We use the function `resample_datastore`."
   ]
  },
  {
   "cell_type": "code",
   "execution_count": 10,
   "metadata": {},
   "outputs": [],
   "source": [
    "ds_resampled = ds.resample_datastore(how='mean', time=\"47S\")"
   ]
  },
  {
   "cell_type": "markdown",
   "metadata": {},
   "source": [
    "## 5 Upsample / Interpolation (length and time dimension)\n",
    "So we have measurements every 0.12 cm starting at $x=0$ m. What if we would like to change our coordinate system to have a value every 12 cm starting at $x=0.05$ m. We use (linear) interpolation, extrapolation is not supported. The calculated variances are not valid anymore."
   ]
  },
  {
   "cell_type": "code",
   "execution_count": 11,
   "metadata": {},
   "outputs": [],
   "source": [
    "x_old = ds.x.data\n",
    "x_new = x_old[:-1] + 0.05 # no extrapolation\n",
    "ds_xinterped = ds.interp(coords={'x': x_new})"
   ]
  },
  {
   "cell_type": "markdown",
   "metadata": {},
   "source": [
    "We can do the same in the time dimension"
   ]
  },
  {
   "cell_type": "code",
   "execution_count": 12,
   "metadata": {},
   "outputs": [],
   "source": [
    "import numpy as np\n",
    "time_old = ds.time.data\n",
    "time_new = time_old + np.timedelta64(10, 's')\n",
    "ds_tinterped = ds.interp(coords={'time': time_new})"
   ]
  },
  {
   "cell_type": "code",
   "execution_count": 16,
   "metadata": {},
   "outputs": [],
   "source": []
  }
 ],
 "metadata": {
  "kernelspec": {
   "display_name": "Python 3",
   "language": "python",
   "name": "python3"
  },
  "language_info": {
   "codemirror_mode": {
    "name": "ipython",
    "version": 3
   },
   "file_extension": ".py",
   "mimetype": "text/x-python",
   "name": "python",
   "nbconvert_exporter": "python",
   "pygments_lexer": "ipython3",
   "version": "3.6.6"
  }
 },
 "nbformat": 4,
 "nbformat_minor": 2
}
